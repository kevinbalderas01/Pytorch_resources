{
 "cells": [
  {
   "cell_type": "markdown",
   "id": "136b2929",
   "metadata": {},
   "source": [
    "## Gradients"
   ]
  },
  {
   "cell_type": "code",
   "execution_count": 1,
   "id": "a7ca3b25",
   "metadata": {},
   "outputs": [],
   "source": [
    "import torch"
   ]
  },
  {
   "cell_type": "code",
   "execution_count": 2,
   "id": "9d19e0ce",
   "metadata": {},
   "outputs": [],
   "source": [
    "x = torch.tensor(2.0, requires_grad=True)"
   ]
  },
  {
   "cell_type": "code",
   "execution_count": 3,
   "id": "f3d64fae",
   "metadata": {},
   "outputs": [
    {
     "data": {
      "text/plain": [
       "tensor(63., grad_fn=<AddBackward0>)"
      ]
     },
     "execution_count": 3,
     "metadata": {},
     "output_type": "execute_result"
    }
   ],
   "source": [
    "y = 2*x**4 + x**3 + 3*x**2 + 5*x +1\n",
    "y"
   ]
  },
  {
   "cell_type": "code",
   "execution_count": 5,
   "id": "e30d2656",
   "metadata": {},
   "outputs": [],
   "source": [
    "y.backward()"
   ]
  },
  {
   "cell_type": "code",
   "execution_count": 6,
   "id": "6cbf2a42",
   "metadata": {},
   "outputs": [
    {
     "data": {
      "text/plain": [
       "tensor(93.)"
      ]
     },
     "execution_count": 6,
     "metadata": {},
     "output_type": "execute_result"
    }
   ],
   "source": [
    "x.grad"
   ]
  },
  {
   "cell_type": "code",
   "execution_count": 7,
   "id": "648b0290",
   "metadata": {},
   "outputs": [
    {
     "data": {
      "text/plain": [
       "tensor([[1., 2., 3.],\n",
       "        [3., 2., 1.]], requires_grad=True)"
      ]
     },
     "execution_count": 7,
     "metadata": {},
     "output_type": "execute_result"
    }
   ],
   "source": [
    "x = torch.tensor([[1.,2.,3.],[3.,2.,1.]], requires_grad=True)\n",
    "x"
   ]
  },
  {
   "cell_type": "code",
   "execution_count": 8,
   "id": "e1045467",
   "metadata": {},
   "outputs": [
    {
     "data": {
      "text/plain": [
       "tensor([[ 5.,  8., 11.],\n",
       "        [11.,  8.,  5.]], grad_fn=<AddBackward0>)"
      ]
     },
     "execution_count": 8,
     "metadata": {},
     "output_type": "execute_result"
    }
   ],
   "source": [
    "y = 3*x + 2\n",
    "y"
   ]
  },
  {
   "cell_type": "code",
   "execution_count": 9,
   "id": "d77c025e",
   "metadata": {},
   "outputs": [
    {
     "data": {
      "text/plain": [
       "tensor([[ 50., 128., 242.],\n",
       "        [242., 128.,  50.]], grad_fn=<MulBackward0>)"
      ]
     },
     "execution_count": 9,
     "metadata": {},
     "output_type": "execute_result"
    }
   ],
   "source": [
    "z = 2*y**2\n",
    "z"
   ]
  },
  {
   "cell_type": "code",
   "execution_count": 10,
   "id": "72e66f22",
   "metadata": {},
   "outputs": [
    {
     "data": {
      "text/plain": [
       "tensor(140., grad_fn=<MeanBackward0>)"
      ]
     },
     "execution_count": 10,
     "metadata": {},
     "output_type": "execute_result"
    }
   ],
   "source": [
    "out = z.mean()\n",
    "out"
   ]
  },
  {
   "cell_type": "code",
   "execution_count": 11,
   "id": "d75215a6",
   "metadata": {},
   "outputs": [],
   "source": [
    "out.backward()"
   ]
  },
  {
   "cell_type": "code",
   "execution_count": 13,
   "id": "fe3422a4",
   "metadata": {},
   "outputs": [
    {
     "data": {
      "text/plain": [
       "tensor([[10., 16., 22.],\n",
       "        [22., 16., 10.]])"
      ]
     },
     "execution_count": 13,
     "metadata": {},
     "output_type": "execute_result"
    }
   ],
   "source": [
    "x.grad"
   ]
  },
  {
   "cell_type": "markdown",
   "id": "9e516ceb",
   "metadata": {},
   "source": [
    "## Linear Regression"
   ]
  },
  {
   "cell_type": "code",
   "execution_count": 15,
   "id": "1d38cd60",
   "metadata": {},
   "outputs": [],
   "source": [
    "import torch\n",
    "import numpy as np\n",
    "import matplotlib.pyplot as plt"
   ]
  },
  {
   "cell_type": "code",
   "execution_count": 16,
   "id": "01445a9e",
   "metadata": {},
   "outputs": [],
   "source": [
    "%matplotlib inline"
   ]
  },
  {
   "cell_type": "code",
   "execution_count": 17,
   "id": "1cd2d0c2",
   "metadata": {},
   "outputs": [],
   "source": [
    "import torch.nn as nn"
   ]
  },
  {
   "cell_type": "code",
   "execution_count": 78,
   "id": "406cfdab",
   "metadata": {},
   "outputs": [
    {
     "data": {
      "text/plain": [
       "tensor([[ 1.],\n",
       "        [ 2.],\n",
       "        [ 3.],\n",
       "        [ 4.],\n",
       "        [ 5.],\n",
       "        [ 6.],\n",
       "        [ 7.],\n",
       "        [ 8.],\n",
       "        [ 9.],\n",
       "        [10.],\n",
       "        [11.],\n",
       "        [12.],\n",
       "        [13.],\n",
       "        [14.],\n",
       "        [15.],\n",
       "        [16.],\n",
       "        [17.],\n",
       "        [18.],\n",
       "        [19.],\n",
       "        [20.],\n",
       "        [21.],\n",
       "        [22.],\n",
       "        [23.],\n",
       "        [24.],\n",
       "        [25.],\n",
       "        [26.],\n",
       "        [27.],\n",
       "        [28.],\n",
       "        [29.],\n",
       "        [30.],\n",
       "        [31.],\n",
       "        [32.],\n",
       "        [33.],\n",
       "        [34.],\n",
       "        [35.],\n",
       "        [36.],\n",
       "        [37.],\n",
       "        [38.],\n",
       "        [39.],\n",
       "        [40.],\n",
       "        [41.],\n",
       "        [42.],\n",
       "        [43.],\n",
       "        [44.],\n",
       "        [45.],\n",
       "        [46.],\n",
       "        [47.],\n",
       "        [48.],\n",
       "        [49.],\n",
       "        [50.]])"
      ]
     },
     "execution_count": 78,
     "metadata": {},
     "output_type": "execute_result"
    }
   ],
   "source": [
    "x = torch.linspace(1,50,50).reshape(-1,1)\n",
    "x"
   ]
  },
  {
   "cell_type": "code",
   "execution_count": 79,
   "id": "e5538135",
   "metadata": {},
   "outputs": [],
   "source": [
    "torch.manual_seed(71)\n",
    "e = torch.randint(-8,9,(50,1), dtype=torch.float)"
   ]
  },
  {
   "cell_type": "code",
   "execution_count": 80,
   "id": "82f23dcd",
   "metadata": {},
   "outputs": [
    {
     "data": {
      "text/plain": [
       "tensor([[ 2.],\n",
       "        [ 7.],\n",
       "        [ 2.],\n",
       "        [ 6.],\n",
       "        [ 2.],\n",
       "        [-4.],\n",
       "        [ 2.],\n",
       "        [-5.],\n",
       "        [ 4.],\n",
       "        [ 1.],\n",
       "        [ 2.],\n",
       "        [ 3.],\n",
       "        [ 1.],\n",
       "        [-8.],\n",
       "        [ 5.],\n",
       "        [ 5.],\n",
       "        [-6.],\n",
       "        [ 0.],\n",
       "        [-7.],\n",
       "        [-8.],\n",
       "        [-3.],\n",
       "        [-1.],\n",
       "        [ 2.],\n",
       "        [-6.],\n",
       "        [-3.],\n",
       "        [ 3.],\n",
       "        [ 2.],\n",
       "        [ 3.],\n",
       "        [ 4.],\n",
       "        [ 5.],\n",
       "        [ 1.],\n",
       "        [ 7.],\n",
       "        [ 6.],\n",
       "        [-1.],\n",
       "        [-6.],\n",
       "        [-5.],\n",
       "        [-3.],\n",
       "        [ 7.],\n",
       "        [ 0.],\n",
       "        [ 8.],\n",
       "        [-1.],\n",
       "        [-2.],\n",
       "        [ 2.],\n",
       "        [-8.],\n",
       "        [-1.],\n",
       "        [ 6.],\n",
       "        [-8.],\n",
       "        [-3.],\n",
       "        [-7.],\n",
       "        [-2.]])"
      ]
     },
     "execution_count": 80,
     "metadata": {},
     "output_type": "execute_result"
    }
   ],
   "source": [
    "e"
   ]
  },
  {
   "cell_type": "code",
   "execution_count": 81,
   "id": "5f9efa0e",
   "metadata": {},
   "outputs": [
    {
     "data": {
      "text/plain": [
       "torch.Size([50, 1])"
      ]
     },
     "execution_count": 81,
     "metadata": {},
     "output_type": "execute_result"
    }
   ],
   "source": [
    "y = 2*x + 1 + e\n",
    "y.shape"
   ]
  },
  {
   "cell_type": "code",
   "execution_count": 82,
   "id": "657f332b",
   "metadata": {},
   "outputs": [
    {
     "data": {
      "image/png": "[encoded data removed]",
      "text/plain": [
       "<Figure size 640x480 with 1 Axes>"
      ]
     },
     "metadata": {},
     "output_type": "display_data"
    }
   ],
   "source": [
    "plt.scatter(x.numpy(), y.numpy())#.numpy method to convert from tensor to array\n",
    "plt.show()"
   ]
  },
  {
   "cell_type": "code",
   "execution_count": 24,
   "id": "14dbafb7",
   "metadata": {},
   "outputs": [
    {
     "name": "stdout",
     "output_type": "stream",
     "text": [
      "Parameter containing:\n",
      "tensor([[0.1060]], requires_grad=True)\n",
      "Parameter containing:\n",
      "tensor([0.9638], requires_grad=True)\n"
     ]
    }
   ],
   "source": [
    "torch.manual_seed(59)\n",
    "\n",
    "model = nn.Linear(in_features=1, out_features=1)\n",
    "print(model.weight)\n",
    "print(model.bias)"
   ]
  },
  {
   "cell_type": "code",
   "execution_count": 65,
   "id": "3140bea3",
   "metadata": {},
   "outputs": [],
   "source": [
    "class Model(nn.Module):\n",
    "    \n",
    "    def __init__(self, in_features, out_features):\n",
    "        super().__init__()\n",
    "        self.linear = nn.Linear(in_features, out_features)\n",
    "        \n",
    "    def forward(self, x):\n",
    "        y_pred = self.linear(x)\n",
    "        return y_pred"
   ]
  },
  {
   "cell_type": "code",
   "execution_count": 66,
   "id": "70079cbd",
   "metadata": {},
   "outputs": [
    {
     "name": "stdout",
     "output_type": "stream",
     "text": [
      "Parameter containing:\n",
      "tensor([[0.1060]], requires_grad=True)\n",
      "Parameter containing:\n",
      "tensor([0.9638], requires_grad=True)\n"
     ]
    }
   ],
   "source": [
    "torch.manual_seed(59)\n",
    "model = Model(1,1)\n",
    "print(model.linear.weight)\n",
    "print(model.linear.bias)"
   ]
  },
  {
   "cell_type": "code",
   "execution_count": 67,
   "id": "9232ac22",
   "metadata": {},
   "outputs": [
    {
     "name": "stdout",
     "output_type": "stream",
     "text": [
      "linear.weight \t 0.10597813129425049\n",
      "linear.bias \t 0.9637961387634277\n"
     ]
    }
   ],
   "source": [
    "for name, param in model.named_parameters():\n",
    "    print(name, '\\t', param.item())"
   ]
  },
  {
   "cell_type": "code",
   "execution_count": 28,
   "id": "b5ebf614",
   "metadata": {},
   "outputs": [
    {
     "name": "stdout",
     "output_type": "stream",
     "text": [
      "tensor([1.1758], grad_fn=<ViewBackward0>)\n"
     ]
    }
   ],
   "source": [
    "x = torch.tensor([2.0])\n",
    "print(model.forward(x))"
   ]
  },
  {
   "cell_type": "code",
   "execution_count": 68,
   "id": "18d68fbe",
   "metadata": {},
   "outputs": [
    {
     "data": {
      "text/plain": [
       "array([ 0.        ,  1.02040816,  2.04081633,  3.06122449,  4.08163265,\n",
       "        5.10204082,  6.12244898,  7.14285714,  8.16326531,  9.18367347,\n",
       "       10.20408163, 11.2244898 , 12.24489796, 13.26530612, 14.28571429,\n",
       "       15.30612245, 16.32653061, 17.34693878, 18.36734694, 19.3877551 ,\n",
       "       20.40816327, 21.42857143, 22.44897959, 23.46938776, 24.48979592,\n",
       "       25.51020408, 26.53061224, 27.55102041, 28.57142857, 29.59183673,\n",
       "       30.6122449 , 31.63265306, 32.65306122, 33.67346939, 34.69387755,\n",
       "       35.71428571, 36.73469388, 37.75510204, 38.7755102 , 39.79591837,\n",
       "       40.81632653, 41.83673469, 42.85714286, 43.87755102, 44.89795918,\n",
       "       45.91836735, 46.93877551, 47.95918367, 48.97959184, 50.        ])"
      ]
     },
     "execution_count": 68,
     "metadata": {},
     "output_type": "execute_result"
    }
   ],
   "source": [
    "x1 = np.linspace(0.0, 50.0, 50)\n",
    "x1"
   ]
  },
  {
   "cell_type": "code",
   "execution_count": 69,
   "id": "0fdbdd21",
   "metadata": {},
   "outputs": [
    {
     "data": {
      "text/plain": [
       "(50,)"
      ]
     },
     "execution_count": 69,
     "metadata": {},
     "output_type": "execute_result"
    }
   ],
   "source": [
    "x1.shape"
   ]
  },
  {
   "cell_type": "code",
   "execution_count": 70,
   "id": "de1d5109",
   "metadata": {},
   "outputs": [
    {
     "data": {
      "text/plain": [
       "array([0.9637961 , 1.07193702, 1.18007794, 1.28821886, 1.39635977,\n",
       "       1.50450069, 1.61264161, 1.72078253, 1.82892345, 1.93706437,\n",
       "       2.04520528, 2.1533462 , 2.26148712, 2.36962804, 2.47776896,\n",
       "       2.58590988, 2.69405079, 2.80219171, 2.91033263, 3.01847355,\n",
       "       3.12661447, 3.23475539, 3.3428963 , 3.45103722, 3.55917814,\n",
       "       3.66731906, 3.77545998, 3.8836009 , 3.99174181, 4.09988273,\n",
       "       4.20802365, 4.31616457, 4.42430549, 4.53244641, 4.64058732,\n",
       "       4.74872824, 4.85686916, 4.96501008, 5.073151  , 5.18129192,\n",
       "       5.28943283, 5.39757375, 5.50571467, 5.61385559, 5.72199651,\n",
       "       5.83013743, 5.93827834, 6.04641926, 6.15456018, 6.2627011 ])"
      ]
     },
     "execution_count": 70,
     "metadata": {},
     "output_type": "execute_result"
    }
   ],
   "source": [
    "w1 = 0.1059781\n",
    "b1 = 0.9637961\n",
    "\n",
    "y1 = w1*x1 + b1\n",
    "y1"
   ]
  },
  {
   "cell_type": "code",
   "execution_count": 71,
   "id": "76cb5516",
   "metadata": {},
   "outputs": [
    {
     "data": {
      "image/png": "[encoded data removed]",
      "text/plain": [
       "<Figure size 640x480 with 1 Axes>"
      ]
     },
     "metadata": {},
     "output_type": "display_data"
    }
   ],
   "source": [
    "plt.plot(x1, y1, 'r')\n",
    "plt.scatter(x.numpy(), y.numpy())\n",
    "plt.show()"
   ]
  },
  {
   "cell_type": "code",
   "execution_count": 72,
   "id": "f96b5c5f",
   "metadata": {},
   "outputs": [],
   "source": [
    "criterion = nn.MSELoss()"
   ]
  },
  {
   "cell_type": "code",
   "execution_count": 73,
   "id": "4df9faab",
   "metadata": {},
   "outputs": [],
   "source": [
    "optimizer = torch.optim.SGD(model.parameters(), lr=0.001)"
   ]
  },
  {
   "cell_type": "code",
   "execution_count": 74,
   "id": "ddbdde71",
   "metadata": {},
   "outputs": [
    {
     "name": "stdout",
     "output_type": "stream",
     "text": [
      "epoch 1 loss:3057.216796875 weight:0.10597813129425049 bias:0.9637961387634277\n",
      "epoch 2 loss:1588.5311279296875 weight:3.334900379180908 bias:1.0604636669158936\n",
      "epoch 3 loss:830.2999877929688 weight:1.0148327350616455 bias:0.9922628402709961\n",
      "epoch 4 loss:438.8524169921875 weight:2.6817996501922607 bias:1.0425218343734741\n",
      "epoch 5 loss:236.7615203857422 weight:1.4840211868286133 bias:1.0076650381088257\n",
      "epoch 6 loss:132.4291229248047 weight:2.3446059226989746 bias:1.0339646339416504\n",
      "epoch 7 loss:78.56572723388672 weight:1.7262253761291504 bias:1.0163217782974243\n",
      "epoch 8 loss:50.75775909423828 weight:2.170504093170166 bias:1.0302516222000122\n",
      "epoch 9 loss:36.4012336730957 weight:1.8512457609176636 bias:1.0214954614639282\n",
      "epoch 10 loss:28.989229202270508 weight:2.0806007385253906 bias:1.029038906097412\n",
      "epoch 11 loss:25.162382125854492 weight:1.9157683849334717 bias:1.0248701572418213\n",
      "epoch 12 loss:23.186473846435547 weight:2.034165620803833 bias:1.0291162729263306\n",
      "epoch 13 loss:22.166126251220703 weight:1.9490584135055542 bias:1.027315616607666\n",
      "epoch 14 loss:21.639110565185547 weight:2.010172128677368 bias:1.0298590660095215\n",
      "epoch 15 loss:21.366771697998047 weight:1.9662237167358398 bias:1.0292805433273315\n",
      "epoch 16 loss:21.22591781616211 weight:1.997764229774475 bias:1.030944585800171\n",
      "epoch 17 loss:21.15294647216797 weight:1.9750648736953735 bias:1.0309966802597046\n",
      "epoch 18 loss:21.115009307861328 weight:1.991337537765503 bias:1.032206416130066\n",
      "epoch 19 loss:21.095176696777344 weight:1.9796085357666016 bias:1.0325838327407837\n",
      "epoch 20 loss:21.084684371948242 weight:1.9879988431930542 bias:1.0335586071014404\n",
      "epoch 21 loss:21.07901382446289 weight:1.981933355331421 bias:1.034103512763977\n",
      "epoch 22 loss:21.075830459594727 weight:1.9862544536590576 bias:1.034956693649292\n",
      "epoch 23 loss:21.073938369750977 weight:1.9831126928329468 bias:1.0355877876281738\n",
      "epoch 24 loss:21.07270050048828 weight:1.9853330850601196 bias:1.0363779067993164\n",
      "epoch 25 loss:21.071819305419922 weight:1.9837009906768799 bias:1.037053108215332\n",
      "epoch 26 loss:21.07110595703125 weight:1.9848365783691406 bias:1.037810206413269\n",
      "epoch 27 loss:21.070486068725586 weight:1.9839837551116943 bias:1.0385079383850098\n",
      "epoch 28 loss:21.069913864135742 weight:1.9845597743988037 bias:1.039247751235962\n",
      "epoch 29 loss:21.069368362426758 weight:1.9841090440750122 bias:1.0399566888809204\n",
      "epoch 30 loss:21.068838119506836 weight:1.9843961000442505 bias:1.0406872034072876\n",
      "epoch 31 loss:21.068307876586914 weight:1.984152913093567 bias:1.0414016246795654\n",
      "epoch 32 loss:21.067781448364258 weight:1.9842908382415771 bias:1.042127013206482\n",
      "epoch 33 loss:21.0672607421875 weight:1.9841549396514893 bias:1.0428439378738403\n",
      "epoch 34 loss:21.066740036010742 weight:1.9842157363891602 bias:1.043566346168518\n",
      "epoch 35 loss:21.066225051879883 weight:1.9841355085372925 bias:1.0442842245101929\n",
      "epoch 36 loss:21.06570816040039 weight:1.9841564893722534 bias:1.0450047254562378\n",
      "epoch 37 loss:21.065187454223633 weight:1.9841045141220093 bias:1.0457227230072021\n",
      "epoch 38 loss:21.064668655395508 weight:1.9841052293777466 bias:1.046441912651062\n",
      "epoch 39 loss:21.064157485961914 weight:1.9840680360794067 bias:1.0471596717834473\n",
      "epoch 40 loss:21.063636779785156 weight:1.984058141708374 bias:1.0478779077529907\n",
      "epoch 41 loss:21.063125610351562 weight:1.984028697013855 bias:1.0485951900482178\n",
      "epoch 42 loss:21.062606811523438 weight:1.9840131998062134 bias:1.0493125915527344\n",
      "epoch 43 loss:21.062095642089844 weight:1.98398756980896 bias:1.0500292778015137\n",
      "epoch 44 loss:21.06157684326172 weight:1.9839695692062378 bias:1.0507458448410034\n",
      "epoch 45 loss:21.06106948852539 weight:1.9839458465576172 bias:1.051461935043335\n",
      "epoch 46 loss:21.06055450439453 weight:1.9839262962341309 bias:1.0521777868270874\n",
      "epoch 47 loss:21.060043334960938 weight:1.9839037656784058 bias:1.0528931617736816\n",
      "epoch 48 loss:21.059532165527344 weight:1.9838833808898926 bias:1.0536082983016968\n",
      "epoch 49 loss:21.05901336669922 weight:1.9838614463806152 bias:1.0543230772018433\n",
      "epoch 50 loss:21.058509826660156 weight:1.9838409423828125 bias:1.055037498474121\n"
     ]
    }
   ],
   "source": [
    "epochs = 50\n",
    "losses = []\n",
    "\n",
    "for i in range(epochs):\n",
    "    i +=1 \n",
    "    #Predicting on forward pass\n",
    "    y_pred = model.forward(x)\n",
    "    #Calculate our loss (error)\n",
    "    loss = criterion(y_pred, y)\n",
    "    #Record that error\n",
    "    losses.append(loss.item())\n",
    "    print(f\"epoch {i} loss:{loss.item()} weight:{model.linear.weight.item()} bias:{model.linear.bias.item()}\")\n",
    "    #Preventing compounding for gradients\n",
    "    optimizer.zero_grad()\n",
    "    #Backpropagate one step\n",
    "    loss.backward()\n",
    "    #Update parameters\n",
    "    optimizer.step()"
   ]
  },
  {
   "cell_type": "code",
   "execution_count": 76,
   "id": "7c5474db",
   "metadata": {},
   "outputs": [
    {
     "data": {
      "image/png": "[encoded data removed]",
      "text/plain": [
       "<Figure size 640x480 with 1 Axes>"
      ]
     },
     "metadata": {},
     "output_type": "display_data"
    }
   ],
   "source": [
    "plt.plot(range(epochs), losses)\n",
    "plt.ylabel('MSE LOSS')\n",
    "plt.xlabel('Epoch')\n",
    "plt.show()"
   ]
  },
  {
   "cell_type": "code",
   "execution_count": 84,
   "id": "9aafccf8",
   "metadata": {},
   "outputs": [
    {
     "data": {
      "text/plain": [
       "array([  1.05575156,   3.08005679,   5.10436203,   7.12866726,\n",
       "         9.15297249,  11.17727772,  13.20158295,  15.22588818,\n",
       "        17.25019342,  19.27449865,  21.29880388,  23.32310911,\n",
       "        25.34741434,  27.37171957,  29.39602481,  31.42033004,\n",
       "        33.44463527,  35.4689405 ,  37.49324573,  39.51755096,\n",
       "        41.5418562 ,  43.56616143,  45.59046666,  47.61477189,\n",
       "        49.63907712,  51.66338236,  53.68768759,  55.71199282,\n",
       "        57.73629805,  59.76060328,  61.78490851,  63.80921375,\n",
       "        65.83351898,  67.85782421,  69.88212944,  71.90643467,\n",
       "        73.9307399 ,  75.95504514,  77.97935037,  80.0036556 ,\n",
       "        82.02796083,  84.05226606,  86.07657129,  88.10087653,\n",
       "        90.12518176,  92.14948699,  94.17379222,  96.19809745,\n",
       "        98.22240268, 100.24670792])"
      ]
     },
     "execution_count": 84,
     "metadata": {},
     "output_type": "execute_result"
    }
   ],
   "source": [
    "x2 = np.linspace(0.0, 50.0, 50)\n",
    "current_weight = model.linear.weight.item()\n",
    "current_bias = model.linear.bias.item()\n",
    "\n",
    "predicted_y = current_weight * x2 + current_bias\n",
    "predicted_y"
   ]
  },
  {
   "cell_type": "code",
   "execution_count": 85,
   "id": "489638ec",
   "metadata": {},
   "outputs": [
    {
     "data": {
      "image/png": "[encoded data removed]",
      "text/plain": [
       "<Figure size 640x480 with 1 Axes>"
      ]
     },
     "metadata": {},
     "output_type": "display_data"
    }
   ],
   "source": [
    "plt.plot(x2, predicted_y, 'r')\n",
    "plt.scatter(x.numpy(), y.numpy())\n",
    "plt.show()"
   ]
  },
  {
   "cell_type": "markdown",
   "id": "aca08143",
   "metadata": {},
   "source": [
    "## Datasets with pytorch"
   ]
  },
  {
   "cell_type": "code",
   "execution_count": 3,
   "id": "81bc379c",
   "metadata": {},
   "outputs": [],
   "source": [
    "import torch\n",
    "import numpy as np\n",
    "import matplotlib.pyplot as plt\n",
    "import torch.nn as nn\n",
    "import pandas as pd\n",
    "%matplotlib inline"
   ]
  },
  {
   "cell_type": "code",
   "execution_count": 29,
   "id": "146d415c",
   "metadata": {},
   "outputs": [],
   "source": [
    "df = pd.read_csv('iris.csv')"
   ]
  },
  {
   "cell_type": "code",
   "execution_count": 30,
   "id": "5ca02301",
   "metadata": {},
   "outputs": [
    {
     "data": {
      "text/html": [
       "<div>\n",
       "<style scoped>\n",
       "    .dataframe tbody tr th:only-of-type {\n",
       "        vertical-align: middle;\n",
       "    }\n",
       "\n",
       "    .dataframe tbody tr th {\n",
       "        vertical-align: top;\n",
       "    }\n",
       "\n",
       "    .dataframe thead th {\n",
       "        text-align: right;\n",
       "    }\n",
       "</style>\n",
       "<table border=\"1\" class=\"dataframe\">\n",
       "  <thead>\n",
       "    <tr style=\"text-align: right;\">\n",
       "      <th></th>\n",
       "      <th>sepal.length</th>\n",
       "      <th>sepal.width</th>\n",
       "      <th>petal.length</th>\n",
       "      <th>petal.width</th>\n",
       "      <th>variety</th>\n",
       "    </tr>\n",
       "  </thead>\n",
       "  <tbody>\n",
       "    <tr>\n",
       "      <th>0</th>\n",
       "      <td>5.1</td>\n",
       "      <td>3.5</td>\n",
       "      <td>1.4</td>\n",
       "      <td>0.2</td>\n",
       "      <td>Setosa</td>\n",
       "    </tr>\n",
       "    <tr>\n",
       "      <th>1</th>\n",
       "      <td>4.9</td>\n",
       "      <td>3.0</td>\n",
       "      <td>1.4</td>\n",
       "      <td>0.2</td>\n",
       "      <td>Setosa</td>\n",
       "    </tr>\n",
       "    <tr>\n",
       "      <th>2</th>\n",
       "      <td>4.7</td>\n",
       "      <td>3.2</td>\n",
       "      <td>1.3</td>\n",
       "      <td>0.2</td>\n",
       "      <td>Setosa</td>\n",
       "    </tr>\n",
       "    <tr>\n",
       "      <th>3</th>\n",
       "      <td>4.6</td>\n",
       "      <td>3.1</td>\n",
       "      <td>1.5</td>\n",
       "      <td>0.2</td>\n",
       "      <td>Setosa</td>\n",
       "    </tr>\n",
       "    <tr>\n",
       "      <th>4</th>\n",
       "      <td>5.0</td>\n",
       "      <td>3.6</td>\n",
       "      <td>1.4</td>\n",
       "      <td>0.2</td>\n",
       "      <td>Setosa</td>\n",
       "    </tr>\n",
       "  </tbody>\n",
       "</table>\n",
       "</div>"
      ],
      "text/plain": [
       "   sepal.length  sepal.width  petal.length  petal.width variety\n",
       "0           5.1          3.5           1.4          0.2  Setosa\n",
       "1           4.9          3.0           1.4          0.2  Setosa\n",
       "2           4.7          3.2           1.3          0.2  Setosa\n",
       "3           4.6          3.1           1.5          0.2  Setosa\n",
       "4           5.0          3.6           1.4          0.2  Setosa"
      ]
     },
     "execution_count": 30,
     "metadata": {},
     "output_type": "execute_result"
    }
   ],
   "source": [
    "df.head()"
   ]
  },
  {
   "cell_type": "code",
   "execution_count": 31,
   "id": "b48de7c0",
   "metadata": {},
   "outputs": [
    {
     "data": {
      "text/plain": [
       "(150, 5)"
      ]
     },
     "execution_count": 31,
     "metadata": {},
     "output_type": "execute_result"
    }
   ],
   "source": [
    "df.shape"
   ]
  },
  {
   "cell_type": "code",
   "execution_count": 32,
   "id": "67753c3a",
   "metadata": {},
   "outputs": [
    {
     "data": {
      "image/png": "[encoded data removed]",
      "text/plain": [
       "<Figure size 1000x700 with 4 Axes>"
      ]
     },
     "metadata": {},
     "output_type": "display_data"
    }
   ],
   "source": [
    "fig, axes = plt.subplots(2, 2, figsize=(10,7))\n",
    "fig.tight_layout()\n",
    "\n",
    "plots = [(0,1),(2,3),(0,2),(1,3)]\n",
    "colors = ['b', 'r', 'g']\n",
    "labels = ['Setosa','Virginica','Versicolor']\n",
    "\n",
    "for i, ax in enumerate(axes.flat):\n",
    "    for j in range(3):\n",
    "        x = df.columns[plots[i][0]]\n",
    "        y = df.columns[plots[i][1]]\n",
    "        ax.scatter(df[df['variety']==df['variety'].value_counts().index[j]][x], \n",
    "                   df[df['variety']==df['variety'].value_counts().index[j]][y], \n",
    "                   color=colors[j])\n",
    "        ax.set(xlabel=x, ylabel=y)\n",
    "fig.legend(labels=labels, loc=3, bbox_to_anchor=(1.0, 0.85))\n",
    "plt.show()"
   ]
  },
  {
   "cell_type": "code",
   "execution_count": 34,
   "id": "d3d69f4e",
   "metadata": {},
   "outputs": [],
   "source": [
    "from sklearn import preprocessing\n",
    "le = preprocessing.LabelEncoder()\n",
    "le.fit(df['variety'])\n",
    "df['variety'] = le.transform(df['variety'])"
   ]
  },
  {
   "cell_type": "code",
   "execution_count": 35,
   "id": "84c0d7ce",
   "metadata": {},
   "outputs": [
    {
     "data": {
      "text/html": [
       "<div>\n",
       "<style scoped>\n",
       "    .dataframe tbody tr th:only-of-type {\n",
       "        vertical-align: middle;\n",
       "    }\n",
       "\n",
       "    .dataframe tbody tr th {\n",
       "        vertical-align: top;\n",
       "    }\n",
       "\n",
       "    .dataframe thead th {\n",
       "        text-align: right;\n",
       "    }\n",
       "</style>\n",
       "<table border=\"1\" class=\"dataframe\">\n",
       "  <thead>\n",
       "    <tr style=\"text-align: right;\">\n",
       "      <th></th>\n",
       "      <th>sepal.length</th>\n",
       "      <th>sepal.width</th>\n",
       "      <th>petal.length</th>\n",
       "      <th>petal.width</th>\n",
       "      <th>variety</th>\n",
       "    </tr>\n",
       "  </thead>\n",
       "  <tbody>\n",
       "    <tr>\n",
       "      <th>0</th>\n",
       "      <td>5.1</td>\n",
       "      <td>3.5</td>\n",
       "      <td>1.4</td>\n",
       "      <td>0.2</td>\n",
       "      <td>0</td>\n",
       "    </tr>\n",
       "    <tr>\n",
       "      <th>1</th>\n",
       "      <td>4.9</td>\n",
       "      <td>3.0</td>\n",
       "      <td>1.4</td>\n",
       "      <td>0.2</td>\n",
       "      <td>0</td>\n",
       "    </tr>\n",
       "    <tr>\n",
       "      <th>2</th>\n",
       "      <td>4.7</td>\n",
       "      <td>3.2</td>\n",
       "      <td>1.3</td>\n",
       "      <td>0.2</td>\n",
       "      <td>0</td>\n",
       "    </tr>\n",
       "    <tr>\n",
       "      <th>3</th>\n",
       "      <td>4.6</td>\n",
       "      <td>3.1</td>\n",
       "      <td>1.5</td>\n",
       "      <td>0.2</td>\n",
       "      <td>0</td>\n",
       "    </tr>\n",
       "    <tr>\n",
       "      <th>4</th>\n",
       "      <td>5.0</td>\n",
       "      <td>3.6</td>\n",
       "      <td>1.4</td>\n",
       "      <td>0.2</td>\n",
       "      <td>0</td>\n",
       "    </tr>\n",
       "  </tbody>\n",
       "</table>\n",
       "</div>"
      ],
      "text/plain": [
       "   sepal.length  sepal.width  petal.length  petal.width  variety\n",
       "0           5.1          3.5           1.4          0.2        0\n",
       "1           4.9          3.0           1.4          0.2        0\n",
       "2           4.7          3.2           1.3          0.2        0\n",
       "3           4.6          3.1           1.5          0.2        0\n",
       "4           5.0          3.6           1.4          0.2        0"
      ]
     },
     "execution_count": 35,
     "metadata": {},
     "output_type": "execute_result"
    }
   ],
   "source": [
    "df.head()"
   ]
  },
  {
   "cell_type": "code",
   "execution_count": 36,
   "id": "e5070099",
   "metadata": {},
   "outputs": [],
   "source": [
    "from sklearn.model_selection import train_test_split"
   ]
  },
  {
   "cell_type": "code",
   "execution_count": 37,
   "id": "9ae2e4ae",
   "metadata": {},
   "outputs": [],
   "source": [
    "features = df.drop('variety', axis=1).values \n",
    "label = df['variety'].values"
   ]
  },
  {
   "cell_type": "code",
   "execution_count": 38,
   "id": "61b6e78c",
   "metadata": {},
   "outputs": [],
   "source": [
    "X_train, X_test, y_train, y_test = train_test_split(features, label, test_size=0.2, random_state=33)"
   ]
  },
  {
   "cell_type": "code",
   "execution_count": 39,
   "id": "8e1328c2",
   "metadata": {},
   "outputs": [],
   "source": [
    "X_train = torch.FloatTensor(X_train)\n",
    "X_test = torch.FloatTensor(X_test)"
   ]
  },
  {
   "cell_type": "code",
   "execution_count": 41,
   "id": "8763691e",
   "metadata": {},
   "outputs": [],
   "source": [
    "y_train = torch.LongTensor(y_train).reshape(-1,1)\n",
    "y_test = torch.LongTensor(y_test).reshape(-1,1)"
   ]
  },
  {
   "cell_type": "code",
   "execution_count": 42,
   "id": "5f529a9f",
   "metadata": {},
   "outputs": [
    {
     "data": {
      "text/plain": [
       "tensor([[1],\n",
       "        [1],\n",
       "        [0],\n",
       "        [1],\n",
       "        [2],\n",
       "        [2],\n",
       "        [0],\n",
       "        [0],\n",
       "        [2],\n",
       "        [2],\n",
       "        [2],\n",
       "        [0],\n",
       "        [2],\n",
       "        [1],\n",
       "        [2],\n",
       "        [1],\n",
       "        [2],\n",
       "        [0],\n",
       "        [1],\n",
       "        [2],\n",
       "        [0],\n",
       "        [0],\n",
       "        [2],\n",
       "        [0],\n",
       "        [2],\n",
       "        [2],\n",
       "        [1],\n",
       "        [1],\n",
       "        [2],\n",
       "        [2]])"
      ]
     },
     "execution_count": 42,
     "metadata": {},
     "output_type": "execute_result"
    }
   ],
   "source": [
    "y_test"
   ]
  },
  {
   "cell_type": "code",
   "execution_count": 43,
   "id": "43a2dd28",
   "metadata": {},
   "outputs": [],
   "source": [
    "from torch.utils.data import TensorDataset, DataLoader"
   ]
  },
  {
   "cell_type": "code",
   "execution_count": 48,
   "id": "b641e010",
   "metadata": {},
   "outputs": [],
   "source": [
    "data = df.drop('variety',axis=1).values\n",
    "labels = df['variety'].values"
   ]
  },
  {
   "cell_type": "code",
   "execution_count": 49,
   "id": "ebbbf2ba",
   "metadata": {},
   "outputs": [
    {
     "data": {
      "text/plain": [
       "torch.utils.data.dataset.TensorDataset"
      ]
     },
     "execution_count": 49,
     "metadata": {},
     "output_type": "execute_result"
    }
   ],
   "source": [
    "iris = TensorDataset(torch.FloatTensor(data), torch.LongTensor(labels))\n",
    "type(iris)"
   ]
  },
  {
   "cell_type": "code",
   "execution_count": 50,
   "id": "16e4132e",
   "metadata": {},
   "outputs": [
    {
     "data": {
      "text/plain": [
       "150"
      ]
     },
     "execution_count": 50,
     "metadata": {},
     "output_type": "execute_result"
    }
   ],
   "source": [
    "len(iris)"
   ]
  },
  {
   "cell_type": "code",
   "execution_count": 51,
   "id": "4be9e110",
   "metadata": {},
   "outputs": [
    {
     "name": "stdout",
     "output_type": "stream",
     "text": [
      "(tensor([5.1000, 3.5000, 1.4000, 0.2000]), tensor(0))\n",
      "(tensor([4.9000, 3.0000, 1.4000, 0.2000]), tensor(0))\n",
      "(tensor([4.7000, 3.2000, 1.3000, 0.2000]), tensor(0))\n",
      "(tensor([4.6000, 3.1000, 1.5000, 0.2000]), tensor(0))\n",
      "(tensor([5.0000, 3.6000, 1.4000, 0.2000]), tensor(0))\n",
      "(tensor([5.4000, 3.9000, 1.7000, 0.4000]), tensor(0))\n",
      "(tensor([4.6000, 3.4000, 1.4000, 0.3000]), tensor(0))\n",
      "(tensor([5.0000, 3.4000, 1.5000, 0.2000]), tensor(0))\n",
      "(tensor([4.4000, 2.9000, 1.4000, 0.2000]), tensor(0))\n",
      "(tensor([4.9000, 3.1000, 1.5000, 0.1000]), tensor(0))\n",
      "(tensor([5.4000, 3.7000, 1.5000, 0.2000]), tensor(0))\n",
      "(tensor([4.8000, 3.4000, 1.6000, 0.2000]), tensor(0))\n",
      "(tensor([4.8000, 3.0000, 1.4000, 0.1000]), tensor(0))\n",
      "(tensor([4.3000, 3.0000, 1.1000, 0.1000]), tensor(0))\n",
      "(tensor([5.8000, 4.0000, 1.2000, 0.2000]), tensor(0))\n",
      "(tensor([5.7000, 4.4000, 1.5000, 0.4000]), tensor(0))\n",
      "(tensor([5.4000, 3.9000, 1.3000, 0.4000]), tensor(0))\n",
      "(tensor([5.1000, 3.5000, 1.4000, 0.3000]), tensor(0))\n",
      "(tensor([5.7000, 3.8000, 1.7000, 0.3000]), tensor(0))\n",
      "(tensor([5.1000, 3.8000, 1.5000, 0.3000]), tensor(0))\n",
      "(tensor([5.4000, 3.4000, 1.7000, 0.2000]), tensor(0))\n",
      "(tensor([5.1000, 3.7000, 1.5000, 0.4000]), tensor(0))\n",
      "(tensor([4.6000, 3.6000, 1.0000, 0.2000]), tensor(0))\n",
      "(tensor([5.1000, 3.3000, 1.7000, 0.5000]), tensor(0))\n",
      "(tensor([4.8000, 3.4000, 1.9000, 0.2000]), tensor(0))\n",
      "(tensor([5.0000, 3.0000, 1.6000, 0.2000]), tensor(0))\n",
      "(tensor([5.0000, 3.4000, 1.6000, 0.4000]), tensor(0))\n",
      "(tensor([5.2000, 3.5000, 1.5000, 0.2000]), tensor(0))\n",
      "(tensor([5.2000, 3.4000, 1.4000, 0.2000]), tensor(0))\n",
      "(tensor([4.7000, 3.2000, 1.6000, 0.2000]), tensor(0))\n",
      "(tensor([4.8000, 3.1000, 1.6000, 0.2000]), tensor(0))\n",
      "(tensor([5.4000, 3.4000, 1.5000, 0.4000]), tensor(0))\n",
      "(tensor([5.2000, 4.1000, 1.5000, 0.1000]), tensor(0))\n",
      "(tensor([5.5000, 4.2000, 1.4000, 0.2000]), tensor(0))\n",
      "(tensor([4.9000, 3.1000, 1.5000, 0.2000]), tensor(0))\n",
      "(tensor([5.0000, 3.2000, 1.2000, 0.2000]), tensor(0))\n",
      "(tensor([5.5000, 3.5000, 1.3000, 0.2000]), tensor(0))\n",
      "(tensor([4.9000, 3.6000, 1.4000, 0.1000]), tensor(0))\n",
      "(tensor([4.4000, 3.0000, 1.3000, 0.2000]), tensor(0))\n",
      "(tensor([5.1000, 3.4000, 1.5000, 0.2000]), tensor(0))\n",
      "(tensor([5.0000, 3.5000, 1.3000, 0.3000]), tensor(0))\n",
      "(tensor([4.5000, 2.3000, 1.3000, 0.3000]), tensor(0))\n",
      "(tensor([4.4000, 3.2000, 1.3000, 0.2000]), tensor(0))\n",
      "(tensor([5.0000, 3.5000, 1.6000, 0.6000]), tensor(0))\n",
      "(tensor([5.1000, 3.8000, 1.9000, 0.4000]), tensor(0))\n",
      "(tensor([4.8000, 3.0000, 1.4000, 0.3000]), tensor(0))\n",
      "(tensor([5.1000, 3.8000, 1.6000, 0.2000]), tensor(0))\n",
      "(tensor([4.6000, 3.2000, 1.4000, 0.2000]), tensor(0))\n",
      "(tensor([5.3000, 3.7000, 1.5000, 0.2000]), tensor(0))\n",
      "(tensor([5.0000, 3.3000, 1.4000, 0.2000]), tensor(0))\n",
      "(tensor([7.0000, 3.2000, 4.7000, 1.4000]), tensor(1))\n",
      "(tensor([6.4000, 3.2000, 4.5000, 1.5000]), tensor(1))\n",
      "(tensor([6.9000, 3.1000, 4.9000, 1.5000]), tensor(1))\n",
      "(tensor([5.5000, 2.3000, 4.0000, 1.3000]), tensor(1))\n",
      "(tensor([6.5000, 2.8000, 4.6000, 1.5000]), tensor(1))\n",
      "(tensor([5.7000, 2.8000, 4.5000, 1.3000]), tensor(1))\n",
      "(tensor([6.3000, 3.3000, 4.7000, 1.6000]), tensor(1))\n",
      "(tensor([4.9000, 2.4000, 3.3000, 1.0000]), tensor(1))\n",
      "(tensor([6.6000, 2.9000, 4.6000, 1.3000]), tensor(1))\n",
      "(tensor([5.2000, 2.7000, 3.9000, 1.4000]), tensor(1))\n",
      "(tensor([5.0000, 2.0000, 3.5000, 1.0000]), tensor(1))\n",
      "(tensor([5.9000, 3.0000, 4.2000, 1.5000]), tensor(1))\n",
      "(tensor([6.0000, 2.2000, 4.0000, 1.0000]), tensor(1))\n",
      "(tensor([6.1000, 2.9000, 4.7000, 1.4000]), tensor(1))\n",
      "(tensor([5.6000, 2.9000, 3.6000, 1.3000]), tensor(1))\n",
      "(tensor([6.7000, 3.1000, 4.4000, 1.4000]), tensor(1))\n",
      "(tensor([5.6000, 3.0000, 4.5000, 1.5000]), tensor(1))\n",
      "(tensor([5.8000, 2.7000, 4.1000, 1.0000]), tensor(1))\n",
      "(tensor([6.2000, 2.2000, 4.5000, 1.5000]), tensor(1))\n",
      "(tensor([5.6000, 2.5000, 3.9000, 1.1000]), tensor(1))\n",
      "(tensor([5.9000, 3.2000, 4.8000, 1.8000]), tensor(1))\n",
      "(tensor([6.1000, 2.8000, 4.0000, 1.3000]), tensor(1))\n",
      "(tensor([6.3000, 2.5000, 4.9000, 1.5000]), tensor(1))\n",
      "(tensor([6.1000, 2.8000, 4.7000, 1.2000]), tensor(1))\n",
      "(tensor([6.4000, 2.9000, 4.3000, 1.3000]), tensor(1))\n",
      "(tensor([6.6000, 3.0000, 4.4000, 1.4000]), tensor(1))\n",
      "(tensor([6.8000, 2.8000, 4.8000, 1.4000]), tensor(1))\n",
      "(tensor([6.7000, 3.0000, 5.0000, 1.7000]), tensor(1))\n",
      "(tensor([6.0000, 2.9000, 4.5000, 1.5000]), tensor(1))\n",
      "(tensor([5.7000, 2.6000, 3.5000, 1.0000]), tensor(1))\n",
      "(tensor([5.5000, 2.4000, 3.8000, 1.1000]), tensor(1))\n",
      "(tensor([5.5000, 2.4000, 3.7000, 1.0000]), tensor(1))\n",
      "(tensor([5.8000, 2.7000, 3.9000, 1.2000]), tensor(1))\n",
      "(tensor([6.0000, 2.7000, 5.1000, 1.6000]), tensor(1))\n",
      "(tensor([5.4000, 3.0000, 4.5000, 1.5000]), tensor(1))\n",
      "(tensor([6.0000, 3.4000, 4.5000, 1.6000]), tensor(1))\n",
      "(tensor([6.7000, 3.1000, 4.7000, 1.5000]), tensor(1))\n",
      "(tensor([6.3000, 2.3000, 4.4000, 1.3000]), tensor(1))\n",
      "(tensor([5.6000, 3.0000, 4.1000, 1.3000]), tensor(1))\n",
      "(tensor([5.5000, 2.5000, 4.0000, 1.3000]), tensor(1))\n",
      "(tensor([5.5000, 2.6000, 4.4000, 1.2000]), tensor(1))\n",
      "(tensor([6.1000, 3.0000, 4.6000, 1.4000]), tensor(1))\n",
      "(tensor([5.8000, 2.6000, 4.0000, 1.2000]), tensor(1))\n",
      "(tensor([5.0000, 2.3000, 3.3000, 1.0000]), tensor(1))\n",
      "(tensor([5.6000, 2.7000, 4.2000, 1.3000]), tensor(1))\n",
      "(tensor([5.7000, 3.0000, 4.2000, 1.2000]), tensor(1))\n",
      "(tensor([5.7000, 2.9000, 4.2000, 1.3000]), tensor(1))\n",
      "(tensor([6.2000, 2.9000, 4.3000, 1.3000]), tensor(1))\n",
      "(tensor([5.1000, 2.5000, 3.0000, 1.1000]), tensor(1))\n",
      "(tensor([5.7000, 2.8000, 4.1000, 1.3000]), tensor(1))\n",
      "(tensor([6.3000, 3.3000, 6.0000, 2.5000]), tensor(2))\n",
      "(tensor([5.8000, 2.7000, 5.1000, 1.9000]), tensor(2))\n",
      "(tensor([7.1000, 3.0000, 5.9000, 2.1000]), tensor(2))\n",
      "(tensor([6.3000, 2.9000, 5.6000, 1.8000]), tensor(2))\n",
      "(tensor([6.5000, 3.0000, 5.8000, 2.2000]), tensor(2))\n",
      "(tensor([7.6000, 3.0000, 6.6000, 2.1000]), tensor(2))\n",
      "(tensor([4.9000, 2.5000, 4.5000, 1.7000]), tensor(2))\n",
      "(tensor([7.3000, 2.9000, 6.3000, 1.8000]), tensor(2))\n",
      "(tensor([6.7000, 2.5000, 5.8000, 1.8000]), tensor(2))\n",
      "(tensor([7.2000, 3.6000, 6.1000, 2.5000]), tensor(2))\n",
      "(tensor([6.5000, 3.2000, 5.1000, 2.0000]), tensor(2))\n",
      "(tensor([6.4000, 2.7000, 5.3000, 1.9000]), tensor(2))\n",
      "(tensor([6.8000, 3.0000, 5.5000, 2.1000]), tensor(2))\n",
      "(tensor([5.7000, 2.5000, 5.0000, 2.0000]), tensor(2))\n",
      "(tensor([5.8000, 2.8000, 5.1000, 2.4000]), tensor(2))\n",
      "(tensor([6.4000, 3.2000, 5.3000, 2.3000]), tensor(2))\n",
      "(tensor([6.5000, 3.0000, 5.5000, 1.8000]), tensor(2))\n",
      "(tensor([7.7000, 3.8000, 6.7000, 2.2000]), tensor(2))\n",
      "(tensor([7.7000, 2.6000, 6.9000, 2.3000]), tensor(2))\n",
      "(tensor([6.0000, 2.2000, 5.0000, 1.5000]), tensor(2))\n",
      "(tensor([6.9000, 3.2000, 5.7000, 2.3000]), tensor(2))\n",
      "(tensor([5.6000, 2.8000, 4.9000, 2.0000]), tensor(2))\n",
      "(tensor([7.7000, 2.8000, 6.7000, 2.0000]), tensor(2))\n",
      "(tensor([6.3000, 2.7000, 4.9000, 1.8000]), tensor(2))\n",
      "(tensor([6.7000, 3.3000, 5.7000, 2.1000]), tensor(2))\n",
      "(tensor([7.2000, 3.2000, 6.0000, 1.8000]), tensor(2))\n",
      "(tensor([6.2000, 2.8000, 4.8000, 1.8000]), tensor(2))\n",
      "(tensor([6.1000, 3.0000, 4.9000, 1.8000]), tensor(2))\n",
      "(tensor([6.4000, 2.8000, 5.6000, 2.1000]), tensor(2))\n",
      "(tensor([7.2000, 3.0000, 5.8000, 1.6000]), tensor(2))\n",
      "(tensor([7.4000, 2.8000, 6.1000, 1.9000]), tensor(2))\n",
      "(tensor([7.9000, 3.8000, 6.4000, 2.0000]), tensor(2))\n",
      "(tensor([6.4000, 2.8000, 5.6000, 2.2000]), tensor(2))\n",
      "(tensor([6.3000, 2.8000, 5.1000, 1.5000]), tensor(2))\n",
      "(tensor([6.1000, 2.6000, 5.6000, 1.4000]), tensor(2))\n",
      "(tensor([7.7000, 3.0000, 6.1000, 2.3000]), tensor(2))\n",
      "(tensor([6.3000, 3.4000, 5.6000, 2.4000]), tensor(2))\n",
      "(tensor([6.4000, 3.1000, 5.5000, 1.8000]), tensor(2))\n",
      "(tensor([6.0000, 3.0000, 4.8000, 1.8000]), tensor(2))\n",
      "(tensor([6.9000, 3.1000, 5.4000, 2.1000]), tensor(2))\n",
      "(tensor([6.7000, 3.1000, 5.6000, 2.4000]), tensor(2))\n",
      "(tensor([6.9000, 3.1000, 5.1000, 2.3000]), tensor(2))\n",
      "(tensor([5.8000, 2.7000, 5.1000, 1.9000]), tensor(2))\n",
      "(tensor([6.8000, 3.2000, 5.9000, 2.3000]), tensor(2))\n",
      "(tensor([6.7000, 3.3000, 5.7000, 2.5000]), tensor(2))\n",
      "(tensor([6.7000, 3.0000, 5.2000, 2.3000]), tensor(2))\n",
      "(tensor([6.3000, 2.5000, 5.0000, 1.9000]), tensor(2))\n",
      "(tensor([6.5000, 3.0000, 5.2000, 2.0000]), tensor(2))\n",
      "(tensor([6.2000, 3.4000, 5.4000, 2.3000]), tensor(2))\n",
      "(tensor([5.9000, 3.0000, 5.1000, 1.8000]), tensor(2))\n"
     ]
    }
   ],
   "source": [
    "for i in iris:\n",
    "    print(i)"
   ]
  },
  {
   "cell_type": "code",
   "execution_count": 52,
   "id": "07cbfe06",
   "metadata": {},
   "outputs": [],
   "source": [
    "iris_loader = DataLoader(iris, batch_size=50, shuffle=True)"
   ]
  },
  {
   "cell_type": "code",
   "execution_count": 53,
   "id": "2ddf1ea5",
   "metadata": {},
   "outputs": [
    {
     "name": "stdout",
     "output_type": "stream",
     "text": [
      "0 [tensor([[6.3000, 2.7000, 4.9000, 1.8000],\n",
      "        [6.0000, 2.2000, 4.0000, 1.0000],\n",
      "        [6.1000, 2.9000, 4.7000, 1.4000],\n",
      "        [6.7000, 3.0000, 5.2000, 2.3000],\n",
      "        [6.0000, 2.7000, 5.1000, 1.6000],\n",
      "        [6.4000, 2.8000, 5.6000, 2.2000],\n",
      "        [6.8000, 3.0000, 5.5000, 2.1000],\n",
      "        [6.5000, 3.0000, 5.5000, 1.8000],\n",
      "        [6.2000, 2.2000, 4.5000, 1.5000],\n",
      "        [4.7000, 3.2000, 1.6000, 0.2000],\n",
      "        [4.9000, 3.1000, 1.5000, 0.1000],\n",
      "        [5.5000, 2.6000, 4.4000, 1.2000],\n",
      "        [6.3000, 2.3000, 4.4000, 1.3000],\n",
      "        [5.7000, 4.4000, 1.5000, 0.4000],\n",
      "        [4.6000, 3.6000, 1.0000, 0.2000],\n",
      "        [7.3000, 2.9000, 6.3000, 1.8000],\n",
      "        [6.2000, 2.8000, 4.8000, 1.8000],\n",
      "        [5.9000, 3.0000, 4.2000, 1.5000],\n",
      "        [6.4000, 3.2000, 4.5000, 1.5000],\n",
      "        [6.9000, 3.1000, 4.9000, 1.5000],\n",
      "        [5.0000, 3.5000, 1.3000, 0.3000],\n",
      "        [6.0000, 2.2000, 5.0000, 1.5000],\n",
      "        [5.0000, 3.0000, 1.6000, 0.2000],\n",
      "        [4.3000, 3.0000, 1.1000, 0.1000],\n",
      "        [5.0000, 3.4000, 1.6000, 0.4000],\n",
      "        [5.8000, 2.7000, 5.1000, 1.9000],\n",
      "        [5.1000, 3.4000, 1.5000, 0.2000],\n",
      "        [5.5000, 4.2000, 1.4000, 0.2000],\n",
      "        [7.7000, 2.6000, 6.9000, 2.3000],\n",
      "        [5.1000, 3.8000, 1.5000, 0.3000],\n",
      "        [5.7000, 3.0000, 4.2000, 1.2000],\n",
      "        [5.5000, 2.3000, 4.0000, 1.3000],\n",
      "        [6.3000, 2.5000, 5.0000, 1.9000],\n",
      "        [6.8000, 3.2000, 5.9000, 2.3000],\n",
      "        [6.1000, 3.0000, 4.9000, 1.8000],\n",
      "        [6.6000, 2.9000, 4.6000, 1.3000],\n",
      "        [5.1000, 3.5000, 1.4000, 0.2000],\n",
      "        [5.6000, 2.5000, 3.9000, 1.1000],\n",
      "        [4.8000, 3.0000, 1.4000, 0.1000],\n",
      "        [5.0000, 3.4000, 1.5000, 0.2000],\n",
      "        [5.7000, 2.8000, 4.1000, 1.3000],\n",
      "        [6.0000, 3.0000, 4.8000, 1.8000],\n",
      "        [6.4000, 3.2000, 5.3000, 2.3000],\n",
      "        [6.8000, 2.8000, 4.8000, 1.4000],\n",
      "        [4.8000, 3.1000, 1.6000, 0.2000],\n",
      "        [7.0000, 3.2000, 4.7000, 1.4000],\n",
      "        [5.1000, 3.7000, 1.5000, 0.4000],\n",
      "        [6.3000, 3.3000, 4.7000, 1.6000],\n",
      "        [5.7000, 2.5000, 5.0000, 2.0000],\n",
      "        [5.7000, 2.6000, 3.5000, 1.0000]]), tensor([2, 1, 1, 2, 1, 2, 2, 2, 1, 0, 0, 1, 1, 0, 0, 2, 2, 1, 1, 1, 0, 2, 0, 0,\n",
      "        0, 2, 0, 0, 2, 0, 1, 1, 2, 2, 2, 1, 0, 1, 0, 0, 1, 2, 2, 1, 0, 1, 0, 1,\n",
      "        2, 1])]\n",
      "1 [tensor([[4.9000, 3.1000, 1.5000, 0.2000],\n",
      "        [4.8000, 3.4000, 1.9000, 0.2000],\n",
      "        [5.8000, 4.0000, 1.2000, 0.2000],\n",
      "        [4.8000, 3.0000, 1.4000, 0.3000],\n",
      "        [6.2000, 2.9000, 4.3000, 1.3000],\n",
      "        [4.4000, 2.9000, 1.4000, 0.2000],\n",
      "        [6.4000, 2.7000, 5.3000, 1.9000],\n",
      "        [5.8000, 2.6000, 4.0000, 1.2000],\n",
      "        [5.1000, 3.5000, 1.4000, 0.3000],\n",
      "        [6.7000, 3.1000, 4.7000, 1.5000],\n",
      "        [6.0000, 3.4000, 4.5000, 1.6000],\n",
      "        [6.7000, 3.1000, 5.6000, 2.4000],\n",
      "        [6.4000, 2.9000, 4.3000, 1.3000],\n",
      "        [6.7000, 3.0000, 5.0000, 1.7000],\n",
      "        [5.2000, 3.5000, 1.5000, 0.2000],\n",
      "        [4.9000, 3.6000, 1.4000, 0.1000],\n",
      "        [5.7000, 2.9000, 4.2000, 1.3000],\n",
      "        [4.7000, 3.2000, 1.3000, 0.2000],\n",
      "        [7.7000, 2.8000, 6.7000, 2.0000],\n",
      "        [5.3000, 3.7000, 1.5000, 0.2000],\n",
      "        [7.1000, 3.0000, 5.9000, 2.1000],\n",
      "        [6.1000, 2.8000, 4.7000, 1.2000],\n",
      "        [6.0000, 2.9000, 4.5000, 1.5000],\n",
      "        [7.6000, 3.0000, 6.6000, 2.1000],\n",
      "        [6.3000, 2.8000, 5.1000, 1.5000],\n",
      "        [5.1000, 3.8000, 1.9000, 0.4000],\n",
      "        [7.4000, 2.8000, 6.1000, 1.9000],\n",
      "        [5.1000, 3.8000, 1.6000, 0.2000],\n",
      "        [6.5000, 3.2000, 5.1000, 2.0000],\n",
      "        [6.4000, 3.1000, 5.5000, 1.8000],\n",
      "        [6.5000, 3.0000, 5.8000, 2.2000],\n",
      "        [5.5000, 2.5000, 4.0000, 1.3000],\n",
      "        [4.8000, 3.4000, 1.6000, 0.2000],\n",
      "        [6.7000, 2.5000, 5.8000, 1.8000],\n",
      "        [6.7000, 3.3000, 5.7000, 2.5000],\n",
      "        [5.4000, 3.4000, 1.7000, 0.2000],\n",
      "        [5.6000, 2.7000, 4.2000, 1.3000],\n",
      "        [7.7000, 3.0000, 6.1000, 2.3000],\n",
      "        [4.6000, 3.4000, 1.4000, 0.3000],\n",
      "        [6.3000, 3.3000, 6.0000, 2.5000],\n",
      "        [6.9000, 3.1000, 5.4000, 2.1000],\n",
      "        [5.5000, 2.4000, 3.8000, 1.1000],\n",
      "        [6.3000, 2.9000, 5.6000, 1.8000],\n",
      "        [5.0000, 3.3000, 1.4000, 0.2000],\n",
      "        [5.8000, 2.7000, 4.1000, 1.0000],\n",
      "        [4.9000, 2.5000, 4.5000, 1.7000],\n",
      "        [5.0000, 3.2000, 1.2000, 0.2000],\n",
      "        [5.4000, 3.7000, 1.5000, 0.2000],\n",
      "        [5.1000, 2.5000, 3.0000, 1.1000],\n",
      "        [4.6000, 3.1000, 1.5000, 0.2000]]), tensor([0, 0, 0, 0, 1, 0, 2, 1, 0, 1, 1, 2, 1, 1, 0, 0, 1, 0, 2, 0, 2, 1, 1, 2,\n",
      "        2, 0, 2, 0, 2, 2, 2, 1, 0, 2, 2, 0, 1, 2, 0, 2, 2, 1, 2, 0, 1, 2, 0, 0,\n",
      "        1, 0])]\n",
      "2 [tensor([[4.9000, 3.0000, 1.4000, 0.2000],\n",
      "        [5.7000, 2.8000, 4.5000, 1.3000],\n",
      "        [5.8000, 2.7000, 5.1000, 1.9000],\n",
      "        [5.2000, 4.1000, 1.5000, 0.1000],\n",
      "        [6.2000, 3.4000, 5.4000, 2.3000],\n",
      "        [7.2000, 3.2000, 6.0000, 1.8000],\n",
      "        [6.4000, 2.8000, 5.6000, 2.1000],\n",
      "        [5.6000, 2.9000, 3.6000, 1.3000],\n",
      "        [7.7000, 3.8000, 6.7000, 2.2000],\n",
      "        [5.5000, 2.4000, 3.7000, 1.0000],\n",
      "        [6.1000, 2.8000, 4.0000, 1.3000],\n",
      "        [6.5000, 3.0000, 5.2000, 2.0000],\n",
      "        [5.4000, 3.9000, 1.7000, 0.4000],\n",
      "        [6.5000, 2.8000, 4.6000, 1.5000],\n",
      "        [7.2000, 3.6000, 6.1000, 2.5000],\n",
      "        [5.4000, 3.4000, 1.5000, 0.4000],\n",
      "        [6.6000, 3.0000, 4.4000, 1.4000],\n",
      "        [5.0000, 2.0000, 3.5000, 1.0000],\n",
      "        [6.9000, 3.1000, 5.1000, 2.3000],\n",
      "        [5.7000, 3.8000, 1.7000, 0.3000],\n",
      "        [4.4000, 3.0000, 1.3000, 0.2000],\n",
      "        [6.3000, 2.5000, 4.9000, 1.5000],\n",
      "        [5.9000, 3.2000, 4.8000, 1.8000],\n",
      "        [5.0000, 2.3000, 3.3000, 1.0000],\n",
      "        [7.2000, 3.0000, 5.8000, 1.6000],\n",
      "        [5.6000, 2.8000, 4.9000, 2.0000],\n",
      "        [4.9000, 2.4000, 3.3000, 1.0000],\n",
      "        [5.8000, 2.7000, 3.9000, 1.2000],\n",
      "        [5.2000, 2.7000, 3.9000, 1.4000],\n",
      "        [5.5000, 3.5000, 1.3000, 0.2000],\n",
      "        [5.1000, 3.3000, 1.7000, 0.5000],\n",
      "        [6.7000, 3.1000, 4.4000, 1.4000],\n",
      "        [5.8000, 2.8000, 5.1000, 2.4000],\n",
      "        [6.7000, 3.3000, 5.7000, 2.1000],\n",
      "        [4.4000, 3.2000, 1.3000, 0.2000],\n",
      "        [5.4000, 3.9000, 1.3000, 0.4000],\n",
      "        [5.0000, 3.5000, 1.6000, 0.6000],\n",
      "        [6.1000, 3.0000, 4.6000, 1.4000],\n",
      "        [4.6000, 3.2000, 1.4000, 0.2000],\n",
      "        [7.9000, 3.8000, 6.4000, 2.0000],\n",
      "        [5.4000, 3.0000, 4.5000, 1.5000],\n",
      "        [5.6000, 3.0000, 4.1000, 1.3000],\n",
      "        [5.0000, 3.6000, 1.4000, 0.2000],\n",
      "        [6.3000, 3.4000, 5.6000, 2.4000],\n",
      "        [6.1000, 2.6000, 5.6000, 1.4000],\n",
      "        [6.9000, 3.2000, 5.7000, 2.3000],\n",
      "        [5.9000, 3.0000, 5.1000, 1.8000],\n",
      "        [5.2000, 3.4000, 1.4000, 0.2000],\n",
      "        [4.5000, 2.3000, 1.3000, 0.3000],\n",
      "        [5.6000, 3.0000, 4.5000, 1.5000]]), tensor([0, 1, 2, 0, 2, 2, 2, 1, 2, 1, 1, 2, 0, 1, 2, 0, 1, 1, 2, 0, 0, 1, 1, 1,\n",
      "        2, 2, 1, 1, 1, 0, 0, 1, 2, 2, 0, 0, 0, 1, 0, 2, 1, 1, 0, 2, 2, 2, 2, 0,\n",
      "        0, 1])]\n"
     ]
    }
   ],
   "source": [
    "for i_batch, sample_batch in enumerate(iris_loader): #Batch number, [Tensor with features, Tensor with labels]\n",
    "    print(i_batch, sample_batch)"
   ]
  },
  {
   "cell_type": "markdown",
   "id": "444ee831",
   "metadata": {},
   "source": [
    "## Basic Pytorch ANN"
   ]
  },
  {
   "cell_type": "code",
   "execution_count": 1,
   "id": "d2781334",
   "metadata": {},
   "outputs": [],
   "source": [
    "import torch\n",
    "import torch.nn as nn\n",
    "import torch.nn.functional as F"
   ]
  },
  {
   "cell_type": "code",
   "execution_count": 62,
   "id": "fd996a24",
   "metadata": {},
   "outputs": [],
   "source": [
    "class Model(nn.Module):\n",
    "    \n",
    "    def __init__(self, in_features=4, h1=8, h2=9, out_features=3):\n",
    "        #how many layers?\n",
    "        super().__init__()\n",
    "        self.fc1 = nn.Linear(in_features, h1)\n",
    "        self.fc2 = nn.Linear(h1, h2)\n",
    "        self.out = nn.Linear(h2, out_features)\n",
    "        #Input layer(4 features) --> h1 (N)-- > h2(N) --> output(3 classes)\n",
    "    \n",
    "    def forward(self, x):\n",
    "        x = F.relu(self.fc1(x))\n",
    "        x = F.relu(self.fc2(x))\n",
    "        x = self.out(x)\n",
    "        return x"
   ]
  },
  {
   "cell_type": "code",
   "execution_count": 63,
   "id": "42c37809",
   "metadata": {},
   "outputs": [],
   "source": [
    "class Model2(nn.Module):\n",
    "    def __init__(self, in_features=4, h1=8, h2=9, out_features=3):\n",
    "        super().__init__()\n",
    "        self.model2 = nn.Sequential(\n",
    "                        nn.Linear(in_features, h1),\n",
    "                        nn.ReLU(),\n",
    "                        nn.Linear(h1, h2),\n",
    "                        nn.ReLU(),\n",
    "                        nn.Linear(h2,out_features)\n",
    "        )\n",
    "    \n",
    "    def forward(self, x):\n",
    "        return self.model2(x)\n",
    "    "
   ]
  },
  {
   "cell_type": "code",
   "execution_count": 64,
   "id": "879296ed",
   "metadata": {},
   "outputs": [],
   "source": [
    "torch.manual_seed(32)\n",
    "model = Model()\n",
    "model2 = Model2()"
   ]
  },
  {
   "cell_type": "code",
   "execution_count": 65,
   "id": "b7f27168",
   "metadata": {},
   "outputs": [],
   "source": [
    "import pandas as pd\n",
    "import matplotlib.pyplot as plt\n",
    "%matplotlib inline"
   ]
  },
  {
   "cell_type": "code",
   "execution_count": 66,
   "id": "b70eb081",
   "metadata": {},
   "outputs": [
    {
     "data": {
      "text/html": [
       "<div>\n",
       "<style scoped>\n",
       "    .dataframe tbody tr th:only-of-type {\n",
       "        vertical-align: middle;\n",
       "    }\n",
       "\n",
       "    .dataframe tbody tr th {\n",
       "        vertical-align: top;\n",
       "    }\n",
       "\n",
       "    .dataframe thead th {\n",
       "        text-align: right;\n",
       "    }\n",
       "</style>\n",
       "<table border=\"1\" class=\"dataframe\">\n",
       "  <thead>\n",
       "    <tr style=\"text-align: right;\">\n",
       "      <th></th>\n",
       "      <th>sepal.length</th>\n",
       "      <th>sepal.width</th>\n",
       "      <th>petal.length</th>\n",
       "      <th>petal.width</th>\n",
       "      <th>variety</th>\n",
       "    </tr>\n",
       "  </thead>\n",
       "  <tbody>\n",
       "    <tr>\n",
       "      <th>0</th>\n",
       "      <td>5.1</td>\n",
       "      <td>3.5</td>\n",
       "      <td>1.4</td>\n",
       "      <td>0.2</td>\n",
       "      <td>Setosa</td>\n",
       "    </tr>\n",
       "    <tr>\n",
       "      <th>1</th>\n",
       "      <td>4.9</td>\n",
       "      <td>3.0</td>\n",
       "      <td>1.4</td>\n",
       "      <td>0.2</td>\n",
       "      <td>Setosa</td>\n",
       "    </tr>\n",
       "    <tr>\n",
       "      <th>2</th>\n",
       "      <td>4.7</td>\n",
       "      <td>3.2</td>\n",
       "      <td>1.3</td>\n",
       "      <td>0.2</td>\n",
       "      <td>Setosa</td>\n",
       "    </tr>\n",
       "    <tr>\n",
       "      <th>3</th>\n",
       "      <td>4.6</td>\n",
       "      <td>3.1</td>\n",
       "      <td>1.5</td>\n",
       "      <td>0.2</td>\n",
       "      <td>Setosa</td>\n",
       "    </tr>\n",
       "    <tr>\n",
       "      <th>4</th>\n",
       "      <td>5.0</td>\n",
       "      <td>3.6</td>\n",
       "      <td>1.4</td>\n",
       "      <td>0.2</td>\n",
       "      <td>Setosa</td>\n",
       "    </tr>\n",
       "  </tbody>\n",
       "</table>\n",
       "</div>"
      ],
      "text/plain": [
       "   sepal.length  sepal.width  petal.length  petal.width variety\n",
       "0           5.1          3.5           1.4          0.2  Setosa\n",
       "1           4.9          3.0           1.4          0.2  Setosa\n",
       "2           4.7          3.2           1.3          0.2  Setosa\n",
       "3           4.6          3.1           1.5          0.2  Setosa\n",
       "4           5.0          3.6           1.4          0.2  Setosa"
      ]
     },
     "execution_count": 66,
     "metadata": {},
     "output_type": "execute_result"
    }
   ],
   "source": [
    "df = pd.read_csv('iris.csv')\n",
    "df.head()"
   ]
  },
  {
   "cell_type": "code",
   "execution_count": 67,
   "id": "3b93e665",
   "metadata": {},
   "outputs": [
    {
     "data": {
      "text/html": [
       "<div>\n",
       "<style scoped>\n",
       "    .dataframe tbody tr th:only-of-type {\n",
       "        vertical-align: middle;\n",
       "    }\n",
       "\n",
       "    .dataframe tbody tr th {\n",
       "        vertical-align: top;\n",
       "    }\n",
       "\n",
       "    .dataframe thead th {\n",
       "        text-align: right;\n",
       "    }\n",
       "</style>\n",
       "<table border=\"1\" class=\"dataframe\">\n",
       "  <thead>\n",
       "    <tr style=\"text-align: right;\">\n",
       "      <th></th>\n",
       "      <th>sepal.length</th>\n",
       "      <th>sepal.width</th>\n",
       "      <th>petal.length</th>\n",
       "      <th>petal.width</th>\n",
       "      <th>variety</th>\n",
       "    </tr>\n",
       "  </thead>\n",
       "  <tbody>\n",
       "    <tr>\n",
       "      <th>0</th>\n",
       "      <td>5.1</td>\n",
       "      <td>3.5</td>\n",
       "      <td>1.4</td>\n",
       "      <td>0.2</td>\n",
       "      <td>0</td>\n",
       "    </tr>\n",
       "    <tr>\n",
       "      <th>1</th>\n",
       "      <td>4.9</td>\n",
       "      <td>3.0</td>\n",
       "      <td>1.4</td>\n",
       "      <td>0.2</td>\n",
       "      <td>0</td>\n",
       "    </tr>\n",
       "    <tr>\n",
       "      <th>2</th>\n",
       "      <td>4.7</td>\n",
       "      <td>3.2</td>\n",
       "      <td>1.3</td>\n",
       "      <td>0.2</td>\n",
       "      <td>0</td>\n",
       "    </tr>\n",
       "    <tr>\n",
       "      <th>3</th>\n",
       "      <td>4.6</td>\n",
       "      <td>3.1</td>\n",
       "      <td>1.5</td>\n",
       "      <td>0.2</td>\n",
       "      <td>0</td>\n",
       "    </tr>\n",
       "    <tr>\n",
       "      <th>4</th>\n",
       "      <td>5.0</td>\n",
       "      <td>3.6</td>\n",
       "      <td>1.4</td>\n",
       "      <td>0.2</td>\n",
       "      <td>0</td>\n",
       "    </tr>\n",
       "  </tbody>\n",
       "</table>\n",
       "</div>"
      ],
      "text/plain": [
       "   sepal.length  sepal.width  petal.length  petal.width  variety\n",
       "0           5.1          3.5           1.4          0.2        0\n",
       "1           4.9          3.0           1.4          0.2        0\n",
       "2           4.7          3.2           1.3          0.2        0\n",
       "3           4.6          3.1           1.5          0.2        0\n",
       "4           5.0          3.6           1.4          0.2        0"
      ]
     },
     "execution_count": 67,
     "metadata": {},
     "output_type": "execute_result"
    }
   ],
   "source": [
    "#Changing target class label\n",
    "from sklearn import preprocessing\n",
    "le = preprocessing.LabelEncoder()\n",
    "le.fit(df['variety'])\n",
    "df['variety'] = le.transform(df['variety'])\n",
    "df.head()"
   ]
  },
  {
   "cell_type": "code",
   "execution_count": 68,
   "id": "f3f65278",
   "metadata": {},
   "outputs": [],
   "source": [
    "X = df.drop('variety', axis=1).values \n",
    "y = df['variety'].values"
   ]
  },
  {
   "cell_type": "code",
   "execution_count": 69,
   "id": "5fb65e7d",
   "metadata": {},
   "outputs": [],
   "source": [
    "from sklearn.model_selection import train_test_split"
   ]
  },
  {
   "cell_type": "code",
   "execution_count": 70,
   "id": "12f9ddf4",
   "metadata": {},
   "outputs": [],
   "source": [
    "X_train, X_test, y_train, y_test = train_test_split(X, y, test_size=0.2, random_state=33)"
   ]
  },
  {
   "cell_type": "code",
   "execution_count": 71,
   "id": "22761771",
   "metadata": {},
   "outputs": [],
   "source": [
    "X_train = torch.FloatTensor(X_train)\n",
    "X_test = torch.FloatTensor(X_test)"
   ]
  },
  {
   "cell_type": "code",
   "execution_count": 72,
   "id": "94df57aa",
   "metadata": {},
   "outputs": [],
   "source": [
    "y_train = torch.LongTensor(y_train)\n",
    "y_test = torch.LongTensor(y_test)"
   ]
  },
  {
   "cell_type": "code",
   "execution_count": 74,
   "id": "25b93288",
   "metadata": {},
   "outputs": [],
   "source": [
    "criterion = nn.CrossEntropyLoss() #Muticlass classification problem\n",
    "optimizer = torch.optim.Adam(model.parameters(), lr=0.01)\n",
    "optimizer2 = torch.optim.Adam(model2.parameters(), lr=0.01)"
   ]
  },
  {
   "cell_type": "code",
   "execution_count": 75,
   "id": "def0018e",
   "metadata": {},
   "outputs": [
    {
     "data": {
      "text/plain": [
       "<bound method Module.parameters of Model(\n",
       "  (fc1): Linear(in_features=4, out_features=8, bias=True)\n",
       "  (fc2): Linear(in_features=8, out_features=9, bias=True)\n",
       "  (out): Linear(in_features=9, out_features=3, bias=True)\n",
       ")>"
      ]
     },
     "execution_count": 75,
     "metadata": {},
     "output_type": "execute_result"
    }
   ],
   "source": [
    "model.parameters"
   ]
  },
  {
   "cell_type": "code",
   "execution_count": 76,
   "id": "45d2e207",
   "metadata": {},
   "outputs": [
    {
     "data": {
      "text/plain": [
       "<bound method Module.parameters of Model2(\n",
       "  (model2): Sequential(\n",
       "    (0): Linear(in_features=4, out_features=8, bias=True)\n",
       "    (1): ReLU()\n",
       "    (2): Linear(in_features=8, out_features=9, bias=True)\n",
       "    (3): ReLU()\n",
       "    (4): Linear(in_features=9, out_features=3, bias=True)\n",
       "  )\n",
       ")>"
      ]
     },
     "execution_count": 76,
     "metadata": {},
     "output_type": "execute_result"
    }
   ],
   "source": [
    "model2.parameters"
   ]
  },
  {
   "cell_type": "code",
   "execution_count": 77,
   "id": "a0865144",
   "metadata": {},
   "outputs": [
    {
     "name": "stdout",
     "output_type": "stream",
     "text": [
      "epoch 10 and loss is : 0.9560549259185791\n",
      "epoch 20 and loss is : 0.7922020554542542\n",
      "epoch 30 and loss is : 0.6296348571777344\n",
      "epoch 40 and loss is : 0.4166795611381531\n",
      "epoch 50 and loss is : 0.2654173970222473\n",
      "epoch 60 and loss is : 0.15697206556797028\n",
      "epoch 70 and loss is : 0.10336200147867203\n",
      "epoch 80 and loss is : 0.08226960152387619\n",
      "epoch 90 and loss is : 0.07282204180955887\n",
      "epoch 100 and loss is : 0.06745065003633499\n"
     ]
    }
   ],
   "source": [
    "epochs = 100\n",
    "losses = []\n",
    "\n",
    "for i in range(epochs):\n",
    "    i +=1\n",
    "    #Forward and get a prediction\n",
    "    y_pred = model.forward(X_train)\n",
    "    #Calculate error/loss\n",
    "    loss = criterion(y_pred, y_train)\n",
    "    losses.append(loss.item())\n",
    "    if i%10==0:\n",
    "        print(f\"epoch {i} and loss is : {loss.item()}\")\n",
    "    #Backpropagation\n",
    "    optimizer.zero_grad()\n",
    "    loss.backward()\n",
    "    optimizer.step()"
   ]
  },
  {
   "cell_type": "code",
   "execution_count": 78,
   "id": "7dbaf299",
   "metadata": {},
   "outputs": [
    {
     "name": "stdout",
     "output_type": "stream",
     "text": [
      "epoch 10 and loss is : 0.9501538872718811\n",
      "epoch 20 and loss is : 0.743666410446167\n",
      "epoch 30 and loss is : 0.5123536586761475\n",
      "epoch 40 and loss is : 0.3733404576778412\n",
      "epoch 50 and loss is : 0.28685224056243896\n",
      "epoch 60 and loss is : 0.20094864070415497\n",
      "epoch 70 and loss is : 0.13471563160419464\n",
      "epoch 80 and loss is : 0.0986008569598198\n",
      "epoch 90 and loss is : 0.08073186874389648\n",
      "epoch 100 and loss is : 0.0711493119597435\n"
     ]
    }
   ],
   "source": [
    "epochs = 100\n",
    "losses = []\n",
    "\n",
    "for i in range(epochs):\n",
    "    i +=1\n",
    "    #Forward and get a prediction\n",
    "    y_pred = model2.forward(X_train)\n",
    "    #Calculate error/loss\n",
    "    loss = criterion(y_pred, y_train)\n",
    "    losses.append(loss.item())\n",
    "    if i%10==0:\n",
    "        print(f\"epoch {i} and loss is : {loss.item()}\")\n",
    "    #Backpropagation\n",
    "    optimizer2.zero_grad()\n",
    "    loss.backward()\n",
    "    optimizer2.step()"
   ]
  },
  {
   "cell_type": "code",
   "execution_count": 15,
   "id": "eea213f7",
   "metadata": {},
   "outputs": [
    {
     "data": {
      "image/png": "[encoded data removed]",
      "text/plain": [
       "<Figure size 640x480 with 1 Axes>"
      ]
     },
     "metadata": {},
     "output_type": "display_data"
    }
   ],
   "source": [
    "plt.plot(range(epochs), losses)\n",
    "plt.ylabel('Loss')\n",
    "plt.xlabel('Epoch')\n",
    "plt.show()"
   ]
  },
  {
   "cell_type": "code",
   "execution_count": 16,
   "id": "585b3ac0",
   "metadata": {},
   "outputs": [],
   "source": [
    "with torch.no_grad():\n",
    "    y_eval = model.forward(X_test)\n",
    "    loss = criterion(y_eval, y_test)"
   ]
  },
  {
   "cell_type": "code",
   "execution_count": 17,
   "id": "2ad31539",
   "metadata": {},
   "outputs": [
    {
     "data": {
      "text/plain": [
       "tensor(0.0582)"
      ]
     },
     "execution_count": 17,
     "metadata": {},
     "output_type": "execute_result"
    }
   ],
   "source": [
    "loss"
   ]
  },
  {
   "cell_type": "code",
   "execution_count": 21,
   "id": "e260b458",
   "metadata": {},
   "outputs": [
    {
     "name": "stdout",
     "output_type": "stream",
     "text": [
      "1.) tensor([-2.1234,  4.8067, -0.8803]) 1\n",
      "2.) tensor([-1.7920,  5.3100, -1.5693]) 1\n",
      "3.) tensor([  6.3723,   0.8741, -10.0971]) 0\n",
      "4.) tensor([-3.9129,  4.5951,  1.1509]) 1\n",
      "5.) tensor([-7.4882,  3.1953,  5.7839]) 2\n",
      "6.) tensor([-10.5202,   1.6381,   9.6291]) 2\n",
      "7.) tensor([  6.3364,   1.0237, -10.1951]) 0\n",
      "8.) tensor([  7.0690,   0.7370, -10.9620]) 0\n",
      "9.) tensor([-7.2218,  3.3422,  5.3528]) 2\n",
      "10.) tensor([-9.4170,  2.5675,  8.1028]) 2\n",
      "11.) tensor([-9.9029,  2.3388,  8.7142]) 2\n",
      "12.) tensor([ 6.2942,  0.6938, -9.8046]) 0\n",
      "13.) tensor([-9.3335,  2.1817,  8.1917]) 2\n",
      "14.) tensor([-3.7832,  4.5046,  1.0603]) 1\n",
      "15.) tensor([-7.8793,  3.0060,  6.2225]) 2\n",
      "16.) tensor([-1.8810,  5.1571, -1.3572]) 1\n",
      "17.) tensor([-5.7107,  3.5003,  3.6612]) 2\n",
      "18.) tensor([  7.2014,   0.7687, -11.1842]) 0\n",
      "19.) tensor([-3.2961,  4.7939,  0.3307]) 1\n",
      "20.) tensor([-7.7822,  3.7560,  5.7040]) 2\n",
      "21.) tensor([  6.6703,   0.8191, -10.4707]) 0\n",
      "22.) tensor([  7.4580,   0.9259, -11.7103]) 0\n",
      "23.) tensor([-9.7801,  2.1658,  8.6656]) 2\n",
      "24.) tensor([  6.5976,   0.7715, -10.3186]) 0\n",
      "25.) tensor([-7.4281,  2.8654,  5.9397]) 2\n",
      "26.) tensor([-6.1649,  3.3994,  4.2207]) 2\n",
      "27.) tensor([-3.1644,  4.7467,  0.2535]) 1\n",
      "28.) tensor([-1.5378,  4.9042, -1.5792]) 1\n",
      "29.) tensor([-7.4479,  3.1046,  5.7293]) 2\n",
      "30.) tensor([-6.7186,  3.1143,  4.9560]) 2\n",
      "\n",
      "We got 30 correct !\n"
     ]
    }
   ],
   "source": [
    "correct = 0\n",
    "\n",
    "with torch.no_grad():\n",
    "    for i, data in enumerate(X_test):\n",
    "        y_val = model.forward(data)\n",
    "        print(f\"{i+1}.) {str(y_val)} {y_test[i]}\")\n",
    "        if y_val.argmax().item() == y_test[i]:\n",
    "            correct +=1\n",
    "print(f\"\\nWe got {correct} correct !\")"
   ]
  },
  {
   "cell_type": "code",
   "execution_count": 22,
   "id": "a86f424c",
   "metadata": {},
   "outputs": [],
   "source": [
    "torch.save(model.state_dict(), 'my_iris_model.pt')"
   ]
  },
  {
   "cell_type": "code",
   "execution_count": 23,
   "id": "7d02b05c",
   "metadata": {},
   "outputs": [
    {
     "data": {
      "text/plain": [
       "<All keys matched successfully>"
      ]
     },
     "execution_count": 23,
     "metadata": {},
     "output_type": "execute_result"
    }
   ],
   "source": [
    "new_model = Model()#Assume you still have the original class\n",
    "new_model.load_state_dict(torch.load('my_iris_model.pt'))"
   ]
  },
  {
   "cell_type": "code",
   "execution_count": 24,
   "id": "782941f9",
   "metadata": {},
   "outputs": [
    {
     "data": {
      "text/plain": [
       "Model(\n",
       "  (fc1): Linear(in_features=4, out_features=8, bias=True)\n",
       "  (fc2): Linear(in_features=8, out_features=9, bias=True)\n",
       "  (out): Linear(in_features=9, out_features=3, bias=True)\n",
       ")"
      ]
     },
     "execution_count": 24,
     "metadata": {},
     "output_type": "execute_result"
    }
   ],
   "source": [
    "new_model.eval()"
   ]
  },
  {
   "cell_type": "code",
   "execution_count": null,
   "id": "1413d8a9",
   "metadata": {},
   "outputs": [],
   "source": [
    "torch.save(model, 'my_iris_model.pt') #Entire model with own class"
   ]
  },
  {
   "cell_type": "code",
   "execution_count": 25,
   "id": "73cbb18b",
   "metadata": {},
   "outputs": [],
   "source": [
    "mystery_iris = torch.tensor([5.6, 3.7, 2.2, 0.5])"
   ]
  },
  {
   "cell_type": "code",
   "execution_count": 26,
   "id": "8fc10f42",
   "metadata": {},
   "outputs": [
    {
     "data": {
      "image/png": "[encoded data removed]",
      "text/plain": [
       "<Figure size 1000x700 with 4 Axes>"
      ]
     },
     "metadata": {},
     "output_type": "display_data"
    }
   ],
   "source": [
    "fig, axes = plt.subplots(2, 2, figsize=(10,7))\n",
    "fig.tight_layout()\n",
    "\n",
    "plots = [(0,1),(2,3),(0,2),(1,3)]\n",
    "colors = ['b', 'r', 'g']\n",
    "labels = ['Setosa','Virginica','Versicolor']\n",
    "\n",
    "for i, ax in enumerate(axes.flat):\n",
    "    for j in range(3):\n",
    "        x = df.columns[plots[i][0]]\n",
    "        y = df.columns[plots[i][1]]\n",
    "        ax.scatter(df[df['variety']==df['variety'].value_counts().index[j]][x], \n",
    "                   df[df['variety']==df['variety'].value_counts().index[j]][y], \n",
    "                   color=colors[j])\n",
    "        ax.set(xlabel=x, ylabel=y)\n",
    "        \n",
    "    #Assing mystery plot\n",
    "    ax.scatter(mystery_iris[plots[i][0]], mystery_iris[plots[i][1]], color='y')\n",
    "fig.legend(labels=labels, loc=3, bbox_to_anchor=(1.0, 0.85))\n",
    "plt.show()"
   ]
  },
  {
   "cell_type": "code",
   "execution_count": 28,
   "id": "54508a85",
   "metadata": {},
   "outputs": [
    {
     "name": "stdout",
     "output_type": "stream",
     "text": [
      "tensor([  5.9874,   1.5769, -10.0753])\n",
      "tensor(0)\n"
     ]
    }
   ],
   "source": [
    "with torch.no_grad():\n",
    "    print(new_model(mystery_iris))\n",
    "    print(new_model(mystery_iris).argmax())"
   ]
  },
  {
   "cell_type": "markdown",
   "id": "39f70b4d",
   "metadata": {},
   "source": [
    "## Full ANN Regression"
   ]
  },
  {
   "cell_type": "code",
   "execution_count": 42,
   "id": "5980c8a9",
   "metadata": {},
   "outputs": [],
   "source": [
    "import torch\n",
    "import torch.nn as nn\n",
    "import numpy as np\n",
    "import pandas as pd\n",
    "import matplotlib.pyplot as plt\n",
    "%matplotlib inline"
   ]
  },
  {
   "cell_type": "code",
   "execution_count": 69,
   "id": "488cfd6e",
   "metadata": {},
   "outputs": [
    {
     "data": {
      "text/html": [
       "<div>\n",
       "<style scoped>\n",
       "    .dataframe tbody tr th:only-of-type {\n",
       "        vertical-align: middle;\n",
       "    }\n",
       "\n",
       "    .dataframe tbody tr th {\n",
       "        vertical-align: top;\n",
       "    }\n",
       "\n",
       "    .dataframe thead th {\n",
       "        text-align: right;\n",
       "    }\n",
       "</style>\n",
       "<table border=\"1\" class=\"dataframe\">\n",
       "  <thead>\n",
       "    <tr style=\"text-align: right;\">\n",
       "      <th></th>\n",
       "      <th>pickup_datetime</th>\n",
       "      <th>fare_amount</th>\n",
       "      <th>fare_class</th>\n",
       "      <th>pickup_longitude</th>\n",
       "      <th>pickup_latitude</th>\n",
       "      <th>dropoff_longitude</th>\n",
       "      <th>dropoff_latitude</th>\n",
       "      <th>passenger_count</th>\n",
       "    </tr>\n",
       "  </thead>\n",
       "  <tbody>\n",
       "    <tr>\n",
       "      <th>0</th>\n",
       "      <td>2010-04-19 08:17:56 UTC</td>\n",
       "      <td>6.5</td>\n",
       "      <td>0</td>\n",
       "      <td>-73.992365</td>\n",
       "      <td>40.730521</td>\n",
       "      <td>-73.975499</td>\n",
       "      <td>40.744746</td>\n",
       "      <td>1</td>\n",
       "    </tr>\n",
       "    <tr>\n",
       "      <th>1</th>\n",
       "      <td>2010-04-17 15:43:53 UTC</td>\n",
       "      <td>6.9</td>\n",
       "      <td>0</td>\n",
       "      <td>-73.990078</td>\n",
       "      <td>40.740558</td>\n",
       "      <td>-73.974232</td>\n",
       "      <td>40.744114</td>\n",
       "      <td>1</td>\n",
       "    </tr>\n",
       "    <tr>\n",
       "      <th>2</th>\n",
       "      <td>2010-04-17 11:23:26 UTC</td>\n",
       "      <td>10.1</td>\n",
       "      <td>1</td>\n",
       "      <td>-73.994149</td>\n",
       "      <td>40.751118</td>\n",
       "      <td>-73.960064</td>\n",
       "      <td>40.766235</td>\n",
       "      <td>2</td>\n",
       "    </tr>\n",
       "    <tr>\n",
       "      <th>3</th>\n",
       "      <td>2010-04-11 21:25:03 UTC</td>\n",
       "      <td>8.9</td>\n",
       "      <td>0</td>\n",
       "      <td>-73.990485</td>\n",
       "      <td>40.756422</td>\n",
       "      <td>-73.971205</td>\n",
       "      <td>40.748192</td>\n",
       "      <td>1</td>\n",
       "    </tr>\n",
       "    <tr>\n",
       "      <th>4</th>\n",
       "      <td>2010-04-17 02:19:01 UTC</td>\n",
       "      <td>19.7</td>\n",
       "      <td>1</td>\n",
       "      <td>-73.990976</td>\n",
       "      <td>40.734202</td>\n",
       "      <td>-73.905956</td>\n",
       "      <td>40.743115</td>\n",
       "      <td>1</td>\n",
       "    </tr>\n",
       "  </tbody>\n",
       "</table>\n",
       "</div>"
      ],
      "text/plain": [
       "           pickup_datetime  fare_amount  fare_class  pickup_longitude  \\\n",
       "0  2010-04-19 08:17:56 UTC          6.5           0        -73.992365   \n",
       "1  2010-04-17 15:43:53 UTC          6.9           0        -73.990078   \n",
       "2  2010-04-17 11:23:26 UTC         10.1           1        -73.994149   \n",
       "3  2010-04-11 21:25:03 UTC          8.9           0        -73.990485   \n",
       "4  2010-04-17 02:19:01 UTC         19.7           1        -73.990976   \n",
       "\n",
       "   pickup_latitude  dropoff_longitude  dropoff_latitude  passenger_count  \n",
       "0        40.730521         -73.975499         40.744746                1  \n",
       "1        40.740558         -73.974232         40.744114                1  \n",
       "2        40.751118         -73.960064         40.766235                2  \n",
       "3        40.756422         -73.971205         40.748192                1  \n",
       "4        40.734202         -73.905956         40.743115                1  "
      ]
     },
     "execution_count": 69,
     "metadata": {},
     "output_type": "execute_result"
    }
   ],
   "source": [
    "df = pd.read_csv('NYCTaxiFares.csv')\n",
    "df.head()"
   ]
  },
  {
   "cell_type": "code",
   "execution_count": 70,
   "id": "48a14947",
   "metadata": {},
   "outputs": [
    {
     "data": {
      "text/plain": [
       "(120000, 8)"
      ]
     },
     "execution_count": 70,
     "metadata": {},
     "output_type": "execute_result"
    }
   ],
   "source": [
    "df.shape"
   ]
  },
  {
   "cell_type": "code",
   "execution_count": 71,
   "id": "99c2c447",
   "metadata": {},
   "outputs": [
    {
     "data": {
      "text/plain": [
       "count    120000.000000\n",
       "mean         10.040326\n",
       "std           7.500134\n",
       "min           2.500000\n",
       "25%           5.700000\n",
       "50%           7.700000\n",
       "75%          11.300000\n",
       "max          49.900000\n",
       "Name: fare_amount, dtype: float64"
      ]
     },
     "execution_count": 71,
     "metadata": {},
     "output_type": "execute_result"
    }
   ],
   "source": [
    "df['fare_amount'].describe()"
   ]
  },
  {
   "cell_type": "code",
   "execution_count": 72,
   "id": "440f0f84",
   "metadata": {},
   "outputs": [],
   "source": [
    "def haversine_distance(df, lat1, long1, lat2, long2):\n",
    "    \"\"\"\n",
    "    Calculate the haversine distance between 2 sets of GPS coordinates in df\n",
    "    \"\"\"\n",
    "    r = 6371 #Average radius of Earth in kilometers\n",
    "    \n",
    "    phi1 = np.radians(df[lat1])\n",
    "    phi2 = np.radians(df[lat2])\n",
    "    \n",
    "    delta_phi = np.radians(df[lat2] - df[lat1])\n",
    "    delta_lambda = np.radians(df[long2] - df[long1])\n",
    "    \n",
    "    a = np.sin(delta_phi/2)**2 + np.cos(phi1) * np.cos(phi2) * np.sin(delta_lambda/2)**2\n",
    "    c = 2*np.arctan2(np.sqrt(a), np.sqrt(1-a))\n",
    "    d = (r * c) #in kilometers\n",
    "    return d"
   ]
  },
  {
   "cell_type": "code",
   "execution_count": 73,
   "id": "0a9656c6",
   "metadata": {},
   "outputs": [],
   "source": [
    "df['distance_km'] = haversine_distance(df,'pickup_latitude','pickup_longitude','dropoff_latitude','dropoff_longitude')"
   ]
  },
  {
   "cell_type": "code",
   "execution_count": 74,
   "id": "ab0603c8",
   "metadata": {},
   "outputs": [
    {
     "data": {
      "text/html": [
       "<div>\n",
       "<style scoped>\n",
       "    .dataframe tbody tr th:only-of-type {\n",
       "        vertical-align: middle;\n",
       "    }\n",
       "\n",
       "    .dataframe tbody tr th {\n",
       "        vertical-align: top;\n",
       "    }\n",
       "\n",
       "    .dataframe thead th {\n",
       "        text-align: right;\n",
       "    }\n",
       "</style>\n",
       "<table border=\"1\" class=\"dataframe\">\n",
       "  <thead>\n",
       "    <tr style=\"text-align: right;\">\n",
       "      <th></th>\n",
       "      <th>pickup_datetime</th>\n",
       "      <th>fare_amount</th>\n",
       "      <th>fare_class</th>\n",
       "      <th>pickup_longitude</th>\n",
       "      <th>pickup_latitude</th>\n",
       "      <th>dropoff_longitude</th>\n",
       "      <th>dropoff_latitude</th>\n",
       "      <th>passenger_count</th>\n",
       "      <th>distance_km</th>\n",
       "    </tr>\n",
       "  </thead>\n",
       "  <tbody>\n",
       "    <tr>\n",
       "      <th>0</th>\n",
       "      <td>2010-04-19 08:17:56 UTC</td>\n",
       "      <td>6.5</td>\n",
       "      <td>0</td>\n",
       "      <td>-73.992365</td>\n",
       "      <td>40.730521</td>\n",
       "      <td>-73.975499</td>\n",
       "      <td>40.744746</td>\n",
       "      <td>1</td>\n",
       "      <td>2.126312</td>\n",
       "    </tr>\n",
       "    <tr>\n",
       "      <th>1</th>\n",
       "      <td>2010-04-17 15:43:53 UTC</td>\n",
       "      <td>6.9</td>\n",
       "      <td>0</td>\n",
       "      <td>-73.990078</td>\n",
       "      <td>40.740558</td>\n",
       "      <td>-73.974232</td>\n",
       "      <td>40.744114</td>\n",
       "      <td>1</td>\n",
       "      <td>1.392307</td>\n",
       "    </tr>\n",
       "    <tr>\n",
       "      <th>2</th>\n",
       "      <td>2010-04-17 11:23:26 UTC</td>\n",
       "      <td>10.1</td>\n",
       "      <td>1</td>\n",
       "      <td>-73.994149</td>\n",
       "      <td>40.751118</td>\n",
       "      <td>-73.960064</td>\n",
       "      <td>40.766235</td>\n",
       "      <td>2</td>\n",
       "      <td>3.326763</td>\n",
       "    </tr>\n",
       "    <tr>\n",
       "      <th>3</th>\n",
       "      <td>2010-04-11 21:25:03 UTC</td>\n",
       "      <td>8.9</td>\n",
       "      <td>0</td>\n",
       "      <td>-73.990485</td>\n",
       "      <td>40.756422</td>\n",
       "      <td>-73.971205</td>\n",
       "      <td>40.748192</td>\n",
       "      <td>1</td>\n",
       "      <td>1.864129</td>\n",
       "    </tr>\n",
       "    <tr>\n",
       "      <th>4</th>\n",
       "      <td>2010-04-17 02:19:01 UTC</td>\n",
       "      <td>19.7</td>\n",
       "      <td>1</td>\n",
       "      <td>-73.990976</td>\n",
       "      <td>40.734202</td>\n",
       "      <td>-73.905956</td>\n",
       "      <td>40.743115</td>\n",
       "      <td>1</td>\n",
       "      <td>7.231321</td>\n",
       "    </tr>\n",
       "  </tbody>\n",
       "</table>\n",
       "</div>"
      ],
      "text/plain": [
       "           pickup_datetime  fare_amount  fare_class  pickup_longitude  \\\n",
       "0  2010-04-19 08:17:56 UTC          6.5           0        -73.992365   \n",
       "1  2010-04-17 15:43:53 UTC          6.9           0        -73.990078   \n",
       "2  2010-04-17 11:23:26 UTC         10.1           1        -73.994149   \n",
       "3  2010-04-11 21:25:03 UTC          8.9           0        -73.990485   \n",
       "4  2010-04-17 02:19:01 UTC         19.7           1        -73.990976   \n",
       "\n",
       "   pickup_latitude  dropoff_longitude  dropoff_latitude  passenger_count  \\\n",
       "0        40.730521         -73.975499         40.744746                1   \n",
       "1        40.740558         -73.974232         40.744114                1   \n",
       "2        40.751118         -73.960064         40.766235                2   \n",
       "3        40.756422         -73.971205         40.748192                1   \n",
       "4        40.734202         -73.905956         40.743115                1   \n",
       "\n",
       "   distance_km  \n",
       "0     2.126312  \n",
       "1     1.392307  \n",
       "2     3.326763  \n",
       "3     1.864129  \n",
       "4     7.231321  "
      ]
     },
     "execution_count": 74,
     "metadata": {},
     "output_type": "execute_result"
    }
   ],
   "source": [
    "df.head()"
   ]
  },
  {
   "cell_type": "code",
   "execution_count": 75,
   "id": "1efa37c6",
   "metadata": {},
   "outputs": [
    {
     "name": "stdout",
     "output_type": "stream",
     "text": [
      "<class 'pandas.core.frame.DataFrame'>\n",
      "RangeIndex: 120000 entries, 0 to 119999\n",
      "Data columns (total 9 columns):\n",
      " #   Column             Non-Null Count   Dtype  \n",
      "---  ------             --------------   -----  \n",
      " 0   pickup_datetime    120000 non-null  object \n",
      " 1   fare_amount        120000 non-null  float64\n",
      " 2   fare_class         120000 non-null  int64  \n",
      " 3   pickup_longitude   120000 non-null  float64\n",
      " 4   pickup_latitude    120000 non-null  float64\n",
      " 5   dropoff_longitude  120000 non-null  float64\n",
      " 6   dropoff_latitude   120000 non-null  float64\n",
      " 7   passenger_count    120000 non-null  int64  \n",
      " 8   distance_km        120000 non-null  float64\n",
      "dtypes: float64(6), int64(2), object(1)\n",
      "memory usage: 8.2+ MB\n"
     ]
    }
   ],
   "source": [
    "df.info()"
   ]
  },
  {
   "cell_type": "code",
   "execution_count": 76,
   "id": "57ddf863",
   "metadata": {},
   "outputs": [
    {
     "name": "stdout",
     "output_type": "stream",
     "text": [
      "<class 'pandas.core.frame.DataFrame'>\n",
      "RangeIndex: 120000 entries, 0 to 119999\n",
      "Data columns (total 9 columns):\n",
      " #   Column             Non-Null Count   Dtype              \n",
      "---  ------             --------------   -----              \n",
      " 0   pickup_datetime    120000 non-null  datetime64[ns, UTC]\n",
      " 1   fare_amount        120000 non-null  float64            \n",
      " 2   fare_class         120000 non-null  int64              \n",
      " 3   pickup_longitude   120000 non-null  float64            \n",
      " 4   pickup_latitude    120000 non-null  float64            \n",
      " 5   dropoff_longitude  120000 non-null  float64            \n",
      " 6   dropoff_latitude   120000 non-null  float64            \n",
      " 7   passenger_count    120000 non-null  int64              \n",
      " 8   distance_km        120000 non-null  float64            \n",
      "dtypes: datetime64[ns, UTC](1), float64(6), int64(2)\n",
      "memory usage: 8.2 MB\n"
     ]
    }
   ],
   "source": [
    "df['pickup_datetime'] = pd.to_datetime(df['pickup_datetime'])\n",
    "df.info()"
   ]
  },
  {
   "cell_type": "code",
   "execution_count": 77,
   "id": "aeeb7a18",
   "metadata": {},
   "outputs": [
    {
     "data": {
      "text/html": [
       "<div>\n",
       "<style scoped>\n",
       "    .dataframe tbody tr th:only-of-type {\n",
       "        vertical-align: middle;\n",
       "    }\n",
       "\n",
       "    .dataframe tbody tr th {\n",
       "        vertical-align: top;\n",
       "    }\n",
       "\n",
       "    .dataframe thead th {\n",
       "        text-align: right;\n",
       "    }\n",
       "</style>\n",
       "<table border=\"1\" class=\"dataframe\">\n",
       "  <thead>\n",
       "    <tr style=\"text-align: right;\">\n",
       "      <th></th>\n",
       "      <th>pickup_datetime</th>\n",
       "      <th>fare_amount</th>\n",
       "      <th>fare_class</th>\n",
       "      <th>pickup_longitude</th>\n",
       "      <th>pickup_latitude</th>\n",
       "      <th>dropoff_longitude</th>\n",
       "      <th>dropoff_latitude</th>\n",
       "      <th>passenger_count</th>\n",
       "      <th>distance_km</th>\n",
       "    </tr>\n",
       "  </thead>\n",
       "  <tbody>\n",
       "    <tr>\n",
       "      <th>0</th>\n",
       "      <td>2010-04-19 08:17:56+00:00</td>\n",
       "      <td>6.5</td>\n",
       "      <td>0</td>\n",
       "      <td>-73.992365</td>\n",
       "      <td>40.730521</td>\n",
       "      <td>-73.975499</td>\n",
       "      <td>40.744746</td>\n",
       "      <td>1</td>\n",
       "      <td>2.126312</td>\n",
       "    </tr>\n",
       "    <tr>\n",
       "      <th>1</th>\n",
       "      <td>2010-04-17 15:43:53+00:00</td>\n",
       "      <td>6.9</td>\n",
       "      <td>0</td>\n",
       "      <td>-73.990078</td>\n",
       "      <td>40.740558</td>\n",
       "      <td>-73.974232</td>\n",
       "      <td>40.744114</td>\n",
       "      <td>1</td>\n",
       "      <td>1.392307</td>\n",
       "    </tr>\n",
       "    <tr>\n",
       "      <th>2</th>\n",
       "      <td>2010-04-17 11:23:26+00:00</td>\n",
       "      <td>10.1</td>\n",
       "      <td>1</td>\n",
       "      <td>-73.994149</td>\n",
       "      <td>40.751118</td>\n",
       "      <td>-73.960064</td>\n",
       "      <td>40.766235</td>\n",
       "      <td>2</td>\n",
       "      <td>3.326763</td>\n",
       "    </tr>\n",
       "    <tr>\n",
       "      <th>3</th>\n",
       "      <td>2010-04-11 21:25:03+00:00</td>\n",
       "      <td>8.9</td>\n",
       "      <td>0</td>\n",
       "      <td>-73.990485</td>\n",
       "      <td>40.756422</td>\n",
       "      <td>-73.971205</td>\n",
       "      <td>40.748192</td>\n",
       "      <td>1</td>\n",
       "      <td>1.864129</td>\n",
       "    </tr>\n",
       "    <tr>\n",
       "      <th>4</th>\n",
       "      <td>2010-04-17 02:19:01+00:00</td>\n",
       "      <td>19.7</td>\n",
       "      <td>1</td>\n",
       "      <td>-73.990976</td>\n",
       "      <td>40.734202</td>\n",
       "      <td>-73.905956</td>\n",
       "      <td>40.743115</td>\n",
       "      <td>1</td>\n",
       "      <td>7.231321</td>\n",
       "    </tr>\n",
       "  </tbody>\n",
       "</table>\n",
       "</div>"
      ],
      "text/plain": [
       "            pickup_datetime  fare_amount  fare_class  pickup_longitude  \\\n",
       "0 2010-04-19 08:17:56+00:00          6.5           0        -73.992365   \n",
       "1 2010-04-17 15:43:53+00:00          6.9           0        -73.990078   \n",
       "2 2010-04-17 11:23:26+00:00         10.1           1        -73.994149   \n",
       "3 2010-04-11 21:25:03+00:00          8.9           0        -73.990485   \n",
       "4 2010-04-17 02:19:01+00:00         19.7           1        -73.990976   \n",
       "\n",
       "   pickup_latitude  dropoff_longitude  dropoff_latitude  passenger_count  \\\n",
       "0        40.730521         -73.975499         40.744746                1   \n",
       "1        40.740558         -73.974232         40.744114                1   \n",
       "2        40.751118         -73.960064         40.766235                2   \n",
       "3        40.756422         -73.971205         40.748192                1   \n",
       "4        40.734202         -73.905956         40.743115                1   \n",
       "\n",
       "   distance_km  \n",
       "0     2.126312  \n",
       "1     1.392307  \n",
       "2     3.326763  \n",
       "3     1.864129  \n",
       "4     7.231321  "
      ]
     },
     "execution_count": 77,
     "metadata": {},
     "output_type": "execute_result"
    }
   ],
   "source": [
    "df.head()"
   ]
  },
  {
   "cell_type": "code",
   "execution_count": 78,
   "id": "7743c8f7",
   "metadata": {},
   "outputs": [
    {
     "data": {
      "text/plain": [
       "Timestamp('2010-04-19 08:17:56+0000', tz='UTC')"
      ]
     },
     "execution_count": 78,
     "metadata": {},
     "output_type": "execute_result"
    }
   ],
   "source": [
    "df['pickup_datetime'][0]"
   ]
  },
  {
   "cell_type": "code",
   "execution_count": 79,
   "id": "01fa627e",
   "metadata": {},
   "outputs": [
    {
     "data": {
      "text/plain": [
       "Timestamp('2010-04-19 08:17:56+0000', tz='UTC')"
      ]
     },
     "execution_count": 79,
     "metadata": {},
     "output_type": "execute_result"
    }
   ],
   "source": [
    "my_time = df['pickup_datetime'][0]\n",
    "my_time"
   ]
  },
  {
   "cell_type": "code",
   "execution_count": 80,
   "id": "d1336aef",
   "metadata": {},
   "outputs": [
    {
     "data": {
      "text/plain": [
       "8"
      ]
     },
     "execution_count": 80,
     "metadata": {},
     "output_type": "execute_result"
    }
   ],
   "source": [
    "my_time.hour"
   ]
  },
  {
   "cell_type": "code",
   "execution_count": 81,
   "id": "3027c8e2",
   "metadata": {},
   "outputs": [],
   "source": [
    "df['EDTdate'] = df['pickup_datetime'] - pd.Timedelta(hours=4) #Because difference between UTC and EST "
   ]
  },
  {
   "cell_type": "code",
   "execution_count": 82,
   "id": "502f8b2c",
   "metadata": {},
   "outputs": [],
   "source": [
    "df['Hour'] = df['EDTdate'].dt.hour"
   ]
  },
  {
   "cell_type": "code",
   "execution_count": 83,
   "id": "b5872bab",
   "metadata": {},
   "outputs": [],
   "source": [
    "df['AMorPM'] = np.where(df['Hour']>12, 'pm', 'am')"
   ]
  },
  {
   "cell_type": "code",
   "execution_count": 84,
   "id": "3b7b1ea8",
   "metadata": {},
   "outputs": [],
   "source": [
    "df['Weekday'] = df['EDTdate'].dt.strftime(\"%a\")#Getting weekday"
   ]
  },
  {
   "cell_type": "code",
   "execution_count": 103,
   "id": "751231b6",
   "metadata": {},
   "outputs": [],
   "source": [
    "cat_cols = ['Hour', 'AMorPM', 'Weekday']\n",
    "cont_cols = ['pickup_longitude', 'pickup_latitude', 'dropoff_longitude', 'dropoff_latitude', 'passenger_count','distance_km']"
   ]
  },
  {
   "cell_type": "code",
   "execution_count": 86,
   "id": "18fbc3a3",
   "metadata": {},
   "outputs": [],
   "source": [
    "y_col = ['fare_amount']"
   ]
  },
  {
   "cell_type": "code",
   "execution_count": 87,
   "id": "92c0f82a",
   "metadata": {},
   "outputs": [
    {
     "data": {
      "text/plain": [
       "pickup_datetime      datetime64[ns, UTC]\n",
       "fare_amount                      float64\n",
       "fare_class                         int64\n",
       "pickup_longitude                 float64\n",
       "pickup_latitude                  float64\n",
       "dropoff_longitude                float64\n",
       "dropoff_latitude                 float64\n",
       "passenger_count                    int64\n",
       "distance_km                      float64\n",
       "EDTdate              datetime64[ns, UTC]\n",
       "Hour                               int32\n",
       "AMorPM                            object\n",
       "Weekday                           object\n",
       "dtype: object"
      ]
     },
     "execution_count": 87,
     "metadata": {},
     "output_type": "execute_result"
    }
   ],
   "source": [
    "df.dtypes"
   ]
  },
  {
   "cell_type": "code",
   "execution_count": 88,
   "id": "2f623514",
   "metadata": {},
   "outputs": [],
   "source": [
    "for cat in cat_cols:\n",
    "    df[cat] = df[cat].astype('category')"
   ]
  },
  {
   "cell_type": "code",
   "execution_count": 89,
   "id": "a733d752",
   "metadata": {},
   "outputs": [
    {
     "data": {
      "text/plain": [
       "pickup_datetime      datetime64[ns, UTC]\n",
       "fare_amount                      float64\n",
       "fare_class                         int64\n",
       "pickup_longitude                 float64\n",
       "pickup_latitude                  float64\n",
       "dropoff_longitude                float64\n",
       "dropoff_latitude                 float64\n",
       "passenger_count                    int64\n",
       "distance_km                      float64\n",
       "EDTdate              datetime64[ns, UTC]\n",
       "Hour                            category\n",
       "AMorPM                          category\n",
       "Weekday                         category\n",
       "dtype: object"
      ]
     },
     "execution_count": 89,
     "metadata": {},
     "output_type": "execute_result"
    }
   ],
   "source": [
    "df.dtypes"
   ]
  },
  {
   "cell_type": "code",
   "execution_count": 90,
   "id": "d05eb1da",
   "metadata": {},
   "outputs": [
    {
     "data": {
      "text/plain": [
       "0     4\n",
       "1    11\n",
       "2     7\n",
       "3    17\n",
       "4    22\n",
       "Name: Hour, dtype: category\n",
       "Categories (24, int32): [0, 1, 2, 3, ..., 20, 21, 22, 23]"
      ]
     },
     "execution_count": 90,
     "metadata": {},
     "output_type": "execute_result"
    }
   ],
   "source": [
    "df['Hour'].head()"
   ]
  },
  {
   "cell_type": "code",
   "execution_count": 91,
   "id": "0f00b54d",
   "metadata": {},
   "outputs": [
    {
     "data": {
      "text/plain": [
       "0    am\n",
       "1    am\n",
       "2    am\n",
       "3    pm\n",
       "4    pm\n",
       "Name: AMorPM, dtype: category\n",
       "Categories (2, object): ['am', 'pm']"
      ]
     },
     "execution_count": 91,
     "metadata": {},
     "output_type": "execute_result"
    }
   ],
   "source": [
    "df['AMorPM'].head()"
   ]
  },
  {
   "cell_type": "code",
   "execution_count": 92,
   "id": "e6a3fe5a",
   "metadata": {},
   "outputs": [
    {
     "data": {
      "text/plain": [
       "0    Mon\n",
       "1    Sat\n",
       "2    Sat\n",
       "3    Sun\n",
       "4    Fri\n",
       "Name: Weekday, dtype: category\n",
       "Categories (7, object): ['Fri', 'Mon', 'Sat', 'Sun', 'Thu', 'Tue', 'Wed']"
      ]
     },
     "execution_count": 92,
     "metadata": {},
     "output_type": "execute_result"
    }
   ],
   "source": [
    "df['Weekday'].head()"
   ]
  },
  {
   "cell_type": "code",
   "execution_count": 93,
   "id": "f9d690c6",
   "metadata": {},
   "outputs": [
    {
     "data": {
      "text/plain": [
       "Index(['am', 'pm'], dtype='object')"
      ]
     },
     "execution_count": 93,
     "metadata": {},
     "output_type": "execute_result"
    }
   ],
   "source": [
    "df['AMorPM'].cat.categories"
   ]
  },
  {
   "cell_type": "code",
   "execution_count": 94,
   "id": "8e9d8b5d",
   "metadata": {},
   "outputs": [
    {
     "data": {
      "text/plain": [
       "0         0\n",
       "1         0\n",
       "2         0\n",
       "3         1\n",
       "4         1\n",
       "         ..\n",
       "119995    0\n",
       "119996    0\n",
       "119997    1\n",
       "119998    0\n",
       "119999    0\n",
       "Length: 120000, dtype: int8"
      ]
     },
     "execution_count": 94,
     "metadata": {},
     "output_type": "execute_result"
    }
   ],
   "source": [
    "df['AMorPM'].cat.codes"
   ]
  },
  {
   "cell_type": "code",
   "execution_count": 95,
   "id": "0857ea87",
   "metadata": {},
   "outputs": [
    {
     "data": {
      "text/plain": [
       "Index(['Fri', 'Mon', 'Sat', 'Sun', 'Thu', 'Tue', 'Wed'], dtype='object')"
      ]
     },
     "execution_count": 95,
     "metadata": {},
     "output_type": "execute_result"
    }
   ],
   "source": [
    "df['Weekday'].cat.categories"
   ]
  },
  {
   "cell_type": "code",
   "execution_count": 96,
   "id": "c593a384",
   "metadata": {},
   "outputs": [
    {
     "data": {
      "text/plain": [
       "0         1\n",
       "1         2\n",
       "2         2\n",
       "3         3\n",
       "4         0\n",
       "         ..\n",
       "119995    3\n",
       "119996    0\n",
       "119997    3\n",
       "119998    5\n",
       "119999    2\n",
       "Length: 120000, dtype: int8"
      ]
     },
     "execution_count": 96,
     "metadata": {},
     "output_type": "execute_result"
    }
   ],
   "source": [
    "df['Weekday'].cat.codes"
   ]
  },
  {
   "cell_type": "code",
   "execution_count": 97,
   "id": "7ec58323",
   "metadata": {},
   "outputs": [
    {
     "data": {
      "text/plain": [
       "array([1, 2, 2, ..., 3, 5, 2], dtype=int8)"
      ]
     },
     "execution_count": 97,
     "metadata": {},
     "output_type": "execute_result"
    }
   ],
   "source": [
    "df['Weekday'].cat.codes.values #numpy arrays"
   ]
  },
  {
   "cell_type": "code",
   "execution_count": 98,
   "id": "62de1d2f",
   "metadata": {},
   "outputs": [],
   "source": [
    "hr = df['Hour'].cat.codes.values\n",
    "ampm = df['AMorPM'].cat.codes.values\n",
    "wkdy = df['Weekday'].cat.codes.values"
   ]
  },
  {
   "cell_type": "code",
   "execution_count": 99,
   "id": "c02fd8f6",
   "metadata": {},
   "outputs": [],
   "source": [
    "cats = np.stack([hr, ampm, wkdy], axis=1) #Stack them as columns"
   ]
  },
  {
   "cell_type": "code",
   "execution_count": 100,
   "id": "edcb2572",
   "metadata": {},
   "outputs": [
    {
     "data": {
      "text/plain": [
       "array([[ 4,  0,  1],\n",
       "       [11,  0,  2],\n",
       "       [ 7,  0,  2],\n",
       "       ...,\n",
       "       [14,  1,  3],\n",
       "       [ 4,  0,  5],\n",
       "       [12,  0,  2]], dtype=int8)"
      ]
     },
     "execution_count": 100,
     "metadata": {},
     "output_type": "execute_result"
    }
   ],
   "source": [
    "cats"
   ]
  },
  {
   "cell_type": "code",
   "execution_count": null,
   "id": "8537ce79",
   "metadata": {},
   "outputs": [],
   "source": [
    "#cats = np.stack([df[col].cat.codes.values for col in cat_cols], axis=1)"
   ]
  },
  {
   "cell_type": "code",
   "execution_count": 101,
   "id": "8b79359d",
   "metadata": {},
   "outputs": [],
   "source": [
    "cats = torch.tensor(cats, dtype=torch.int64)"
   ]
  },
  {
   "cell_type": "code",
   "execution_count": 104,
   "id": "9a4af7e4",
   "metadata": {},
   "outputs": [],
   "source": [
    "conts = np.stack([df[col].values for col in cont_cols], axis=1)"
   ]
  },
  {
   "cell_type": "code",
   "execution_count": 105,
   "id": "e6f086c3",
   "metadata": {},
   "outputs": [
    {
     "data": {
      "text/plain": [
       "array([[-73.992365  ,  40.730521  , -73.975499  ,  40.744746  ,\n",
       "          1.        ,   2.12631159],\n",
       "       [-73.990078  ,  40.740558  , -73.974232  ,  40.744114  ,\n",
       "          1.        ,   1.39230687],\n",
       "       [-73.994149  ,  40.751118  , -73.960064  ,  40.766235  ,\n",
       "          2.        ,   3.32676344],\n",
       "       ...,\n",
       "       [-73.988574  ,  40.749772  , -74.011541  ,  40.707799  ,\n",
       "          3.        ,   5.05252282],\n",
       "       [-74.004449  ,  40.724529  , -73.992697  ,  40.730765  ,\n",
       "          1.        ,   1.20892296],\n",
       "       [-73.955415  ,  40.77192   , -73.967623  ,  40.763015  ,\n",
       "          3.        ,   1.42739869]])"
      ]
     },
     "execution_count": 105,
     "metadata": {},
     "output_type": "execute_result"
    }
   ],
   "source": [
    "conts"
   ]
  },
  {
   "cell_type": "code",
   "execution_count": 106,
   "id": "b64f1a7f",
   "metadata": {},
   "outputs": [],
   "source": [
    "conts = torch.tensor(conts, dtype=torch.float)"
   ]
  },
  {
   "cell_type": "code",
   "execution_count": 107,
   "id": "316d66c4",
   "metadata": {},
   "outputs": [
    {
     "data": {
      "text/plain": [
       "tensor([[-73.9924,  40.7305, -73.9755,  40.7447,   1.0000,   2.1263],\n",
       "        [-73.9901,  40.7406, -73.9742,  40.7441,   1.0000,   1.3923],\n",
       "        [-73.9941,  40.7511, -73.9601,  40.7662,   2.0000,   3.3268],\n",
       "        ...,\n",
       "        [-73.9886,  40.7498, -74.0115,  40.7078,   3.0000,   5.0525],\n",
       "        [-74.0044,  40.7245, -73.9927,  40.7308,   1.0000,   1.2089],\n",
       "        [-73.9554,  40.7719, -73.9676,  40.7630,   3.0000,   1.4274]])"
      ]
     },
     "execution_count": 107,
     "metadata": {},
     "output_type": "execute_result"
    }
   ],
   "source": [
    "conts"
   ]
  },
  {
   "cell_type": "code",
   "execution_count": 111,
   "id": "68c4a3e8",
   "metadata": {},
   "outputs": [],
   "source": [
    "y = torch.tensor(df[y_col].values, dtype=torch.float)"
   ]
  },
  {
   "cell_type": "code",
   "execution_count": 112,
   "id": "f965b524",
   "metadata": {},
   "outputs": [
    {
     "data": {
      "text/plain": [
       "torch.Size([120000, 3])"
      ]
     },
     "execution_count": 112,
     "metadata": {},
     "output_type": "execute_result"
    }
   ],
   "source": [
    "cats.shape"
   ]
  },
  {
   "cell_type": "code",
   "execution_count": 113,
   "id": "4d621dcd",
   "metadata": {},
   "outputs": [
    {
     "data": {
      "text/plain": [
       "torch.Size([120000, 6])"
      ]
     },
     "execution_count": 113,
     "metadata": {},
     "output_type": "execute_result"
    }
   ],
   "source": [
    "conts.shape"
   ]
  },
  {
   "cell_type": "code",
   "execution_count": 114,
   "id": "63d2083b",
   "metadata": {},
   "outputs": [
    {
     "data": {
      "text/plain": [
       "torch.Size([120000, 1])"
      ]
     },
     "execution_count": 114,
     "metadata": {},
     "output_type": "execute_result"
    }
   ],
   "source": [
    "y.shape"
   ]
  },
  {
   "cell_type": "code",
   "execution_count": 115,
   "id": "b8294b54",
   "metadata": {},
   "outputs": [
    {
     "data": {
      "text/plain": [
       "[24, 2, 7]"
      ]
     },
     "execution_count": 115,
     "metadata": {},
     "output_type": "execute_result"
    }
   ],
   "source": [
    "cat_szs = [len(df[col].cat.categories) for col in cat_cols]\n",
    "cat_szs"
   ]
  },
  {
   "cell_type": "code",
   "execution_count": 116,
   "id": "ea4dfcf1",
   "metadata": {},
   "outputs": [
    {
     "data": {
      "text/plain": [
       "[(24, 12), (2, 1), (7, 4)]"
      ]
     },
     "execution_count": 116,
     "metadata": {},
     "output_type": "execute_result"
    }
   ],
   "source": [
    "emb_szs = [(size, min(50, (size+1)//2)) for size in cat_szs]\n",
    "emb_szs"
   ]
  },
  {
   "cell_type": "code",
   "execution_count": 117,
   "id": "ecaa399d",
   "metadata": {},
   "outputs": [
    {
     "data": {
      "text/plain": [
       "tensor([[ 4,  0,  1],\n",
       "        [11,  0,  2],\n",
       "        [ 7,  0,  2],\n",
       "        [17,  1,  3]])"
      ]
     },
     "execution_count": 117,
     "metadata": {},
     "output_type": "execute_result"
    }
   ],
   "source": [
    "catz = cats[:4]\n",
    "catz"
   ]
  },
  {
   "cell_type": "code",
   "execution_count": 118,
   "id": "f865b5c7",
   "metadata": {},
   "outputs": [
    {
     "data": {
      "text/plain": [
       "ModuleList(\n",
       "  (0): Embedding(24, 12)\n",
       "  (1): Embedding(2, 1)\n",
       "  (2): Embedding(7, 4)\n",
       ")"
      ]
     },
     "execution_count": 118,
     "metadata": {},
     "output_type": "execute_result"
    }
   ],
   "source": [
    "selfembeds = nn.ModuleList([nn.Embedding(ni, nf) for ni, nf in emb_szs])\n",
    "selfembeds"
   ]
  },
  {
   "cell_type": "code",
   "execution_count": 119,
   "id": "00fb8fc6",
   "metadata": {},
   "outputs": [],
   "source": [
    "#Forward method\n",
    "embeddingz = []\n",
    "\n",
    "for i, e in enumerate(selfembeds):\n",
    "    embeddingz.append(e(catz[:,i]))"
   ]
  },
  {
   "cell_type": "code",
   "execution_count": 120,
   "id": "98e7e629",
   "metadata": {},
   "outputs": [
    {
     "data": {
      "text/plain": [
       "[tensor([[-0.7447,  0.2670, -0.0285, -2.2079, -1.0934, -0.5164, -2.1527,  0.4424,\n",
       "           1.7633,  0.2638, -0.3449, -1.2991],\n",
       "         [-2.6169, -0.0062,  0.5966, -0.0679,  0.5953,  0.2693, -0.9314,  0.6125,\n",
       "           0.9720, -0.8856,  0.1782,  0.0460],\n",
       "         [ 0.8122, -1.1812, -0.9458,  1.5843, -1.1678, -1.1169,  0.3450,  0.0155,\n",
       "           0.6638,  0.5718,  0.0034, -0.0181],\n",
       "         [-0.1915, -2.0699, -1.5566, -0.9438,  0.5087,  0.6881, -0.1271, -1.2427,\n",
       "          -1.0252,  1.3716,  1.3680, -0.9446]], grad_fn=<EmbeddingBackward0>),\n",
       " tensor([[0.4533],\n",
       "         [0.4533],\n",
       "         [0.4533],\n",
       "         [0.4078]], grad_fn=<EmbeddingBackward0>),\n",
       " tensor([[-0.3996, -1.1936, -1.9816, -0.1600],\n",
       "         [-0.1782, -0.3077, -0.2026, -1.4887],\n",
       "         [-0.1782, -0.3077, -0.2026, -1.4887],\n",
       "         [ 0.0967, -0.2465,  0.7779, -0.8365]], grad_fn=<EmbeddingBackward0>)]"
      ]
     },
     "execution_count": 120,
     "metadata": {},
     "output_type": "execute_result"
    }
   ],
   "source": [
    "embeddingz"
   ]
  },
  {
   "cell_type": "code",
   "execution_count": 121,
   "id": "456798eb",
   "metadata": {},
   "outputs": [
    {
     "data": {
      "text/plain": [
       "tensor([[-0.7447,  0.2670, -0.0285, -2.2079, -1.0934, -0.5164, -2.1527,  0.4424,\n",
       "          1.7633,  0.2638, -0.3449, -1.2991,  0.4533, -0.3996, -1.1936, -1.9816,\n",
       "         -0.1600],\n",
       "        [-2.6169, -0.0062,  0.5966, -0.0679,  0.5953,  0.2693, -0.9314,  0.6125,\n",
       "          0.9720, -0.8856,  0.1782,  0.0460,  0.4533, -0.1782, -0.3077, -0.2026,\n",
       "         -1.4887],\n",
       "        [ 0.8122, -1.1812, -0.9458,  1.5843, -1.1678, -1.1169,  0.3450,  0.0155,\n",
       "          0.6638,  0.5718,  0.0034, -0.0181,  0.4533, -0.1782, -0.3077, -0.2026,\n",
       "         -1.4887],\n",
       "        [-0.1915, -2.0699, -1.5566, -0.9438,  0.5087,  0.6881, -0.1271, -1.2427,\n",
       "         -1.0252,  1.3716,  1.3680, -0.9446,  0.4078,  0.0967, -0.2465,  0.7779,\n",
       "         -0.8365]], grad_fn=<CatBackward0>)"
      ]
     },
     "execution_count": 121,
     "metadata": {},
     "output_type": "execute_result"
    }
   ],
   "source": [
    "z = torch.cat(embeddingz, 1)#Concatenate previous embeddings for each observation\n",
    "z"
   ]
  },
  {
   "cell_type": "code",
   "execution_count": 122,
   "id": "6aa585dc",
   "metadata": {},
   "outputs": [],
   "source": [
    "selfembdrop = nn.Dropout(0.4)"
   ]
  },
  {
   "cell_type": "code",
   "execution_count": 123,
   "id": "08d7d4b8",
   "metadata": {},
   "outputs": [
    {
     "data": {
      "text/plain": [
       "tensor([[-1.2411,  0.0000, -0.0475, -3.6799, -1.8223, -0.0000, -3.5878,  0.7373,\n",
       "          0.0000,  0.0000, -0.5748, -2.1652,  0.7555, -0.0000, -1.9894, -0.0000,\n",
       "         -0.0000],\n",
       "        [-4.3615, -0.0103,  0.9943, -0.1132,  0.9922,  0.4488, -0.0000,  0.0000,\n",
       "          0.0000, -1.4760,  0.0000,  0.0767,  0.0000, -0.0000, -0.5128, -0.0000,\n",
       "         -0.0000],\n",
       "        [ 1.3537, -1.9687, -1.5763,  2.6405, -0.0000, -1.8615,  0.0000,  0.0258,\n",
       "          0.0000,  0.9530,  0.0000, -0.0301,  0.0000, -0.2969, -0.0000, -0.3377,\n",
       "         -2.4812],\n",
       "        [-0.3192, -3.4499, -2.5943, -0.0000,  0.0000,  1.1468, -0.2119, -2.0711,\n",
       "         -1.7087,  2.2860,  0.0000, -1.5744,  0.0000,  0.1611, -0.4109,  1.2964,\n",
       "         -0.0000]], grad_fn=<MulBackward0>)"
      ]
     },
     "execution_count": 123,
     "metadata": {},
     "output_type": "execute_result"
    }
   ],
   "source": [
    "z = selfembdrop(z)\n",
    "z"
   ]
  },
  {
   "cell_type": "code",
   "execution_count": 129,
   "id": "508fac0a",
   "metadata": {},
   "outputs": [],
   "source": [
    "class TabularModel(nn.Module):\n",
    "    \n",
    "    def __init__(self, emb_szs, n_cont, out_sz,layers, p=0.5):\n",
    "        \n",
    "        #layers : [200,10,5]\n",
    "        \n",
    "        super().__init__()\n",
    "        self.embeds = nn.ModuleList([nn.Embedding(ni, nf) for ni, nf in emb_szs])\n",
    "        self.emb_drop = nn.Dropout(p)\n",
    "        self.bn_cont = nn.BatchNorm1d(n_cont)\n",
    "        \n",
    "        layerlist = []\n",
    "        n_embs = sum([nf for ni,nf in emb_szs])\n",
    "        n_in = n_embs + n_cont\n",
    "        \n",
    "        for i in layers:\n",
    "            layerlist.append(nn.Linear(n_in, i))\n",
    "            layerlist.append(nn.ReLU(inplace=True))#to be revisited\n",
    "            layerlist.append(nn.BatchNorm1d(i))\n",
    "            layerlist.append(nn.Dropout(p))\n",
    "            n_in = i\n",
    "        layerlist.append(nn.Linear(layers[-1],out_sz))\n",
    "        \n",
    "        self.layers = nn.Sequential(*layerlist)\n",
    "            \n",
    "    def forward(self, x_cat, x_cont):\n",
    "        embeddings = []\n",
    "        for i, e in enumerate(self.embeds):\n",
    "            embeddings.append(e(x_cat[:,i]))\n",
    "        x = torch.cat(embeddings, 1)\n",
    "        x = self.emb_drop(x)\n",
    "        \n",
    "        x_cont = self.bn_cont(x_cont)\n",
    "        x = torch.cat([x, x_cont], 1)\n",
    "        x = self.layers(x)\n",
    "        return x\n",
    "        "
   ]
  },
  {
   "cell_type": "code",
   "execution_count": 130,
   "id": "c3c5bcc1",
   "metadata": {},
   "outputs": [],
   "source": [
    "torch.manual_seed(33)\n",
    "model = TabularModel(emb_szs, conts.shape[1], 1, [200,100], p=0.4)"
   ]
  },
  {
   "cell_type": "code",
   "execution_count": 131,
   "id": "1183adb2",
   "metadata": {},
   "outputs": [
    {
     "data": {
      "text/plain": [
       "TabularModel(\n",
       "  (embeds): ModuleList(\n",
       "    (0): Embedding(24, 12)\n",
       "    (1): Embedding(2, 1)\n",
       "    (2): Embedding(7, 4)\n",
       "  )\n",
       "  (emb_drop): Dropout(p=0.4, inplace=False)\n",
       "  (bn_cont): BatchNorm1d(6, eps=1e-05, momentum=0.1, affine=True, track_running_stats=True)\n",
       "  (layers): Sequential(\n",
       "    (0): Linear(in_features=23, out_features=200, bias=True)\n",
       "    (1): ReLU(inplace=True)\n",
       "    (2): BatchNorm1d(200, eps=1e-05, momentum=0.1, affine=True, track_running_stats=True)\n",
       "    (3): Dropout(p=0.4, inplace=False)\n",
       "    (4): Linear(in_features=200, out_features=100, bias=True)\n",
       "    (5): ReLU(inplace=True)\n",
       "    (6): BatchNorm1d(100, eps=1e-05, momentum=0.1, affine=True, track_running_stats=True)\n",
       "    (7): Dropout(p=0.4, inplace=False)\n",
       "    (8): Linear(in_features=100, out_features=1, bias=True)\n",
       "  )\n",
       ")"
      ]
     },
     "execution_count": 131,
     "metadata": {},
     "output_type": "execute_result"
    }
   ],
   "source": [
    "model"
   ]
  },
  {
   "cell_type": "code",
   "execution_count": 132,
   "id": "d7fa2e4b",
   "metadata": {},
   "outputs": [],
   "source": [
    "criterion = nn.MSELoss() #np.sqrt(mse) -> rmse\n",
    "optimizer = torch.optim.Adam(model.parameters(), lr=0.001)"
   ]
  },
  {
   "cell_type": "code",
   "execution_count": 133,
   "id": "262fd9bc",
   "metadata": {},
   "outputs": [],
   "source": [
    "batch_size = 60000\n",
    "test_size = int(batch_size*0.2)"
   ]
  },
  {
   "cell_type": "code",
   "execution_count": 134,
   "id": "66498f1b",
   "metadata": {},
   "outputs": [],
   "source": [
    "#Data shuffled already\n",
    "cat_train = cats[:batch_size-test_size]\n",
    "cat_test = cats[batch_size-test_size:batch_size]\n",
    "cont_train = conts[:batch_size-test_size]\n",
    "cont_test = conts[batch_size-test_size:batch_size]"
   ]
  },
  {
   "cell_type": "code",
   "execution_count": 135,
   "id": "22dcaec3",
   "metadata": {},
   "outputs": [],
   "source": [
    "y_train = y[:batch_size-test_size]\n",
    "y_test = y[batch_size-test_size:batch_size]"
   ]
  },
  {
   "cell_type": "code",
   "execution_count": 136,
   "id": "35e81b89",
   "metadata": {},
   "outputs": [
    {
     "data": {
      "text/plain": [
       "48000"
      ]
     },
     "execution_count": 136,
     "metadata": {},
     "output_type": "execute_result"
    }
   ],
   "source": [
    "len(cat_train)"
   ]
  },
  {
   "cell_type": "code",
   "execution_count": 137,
   "id": "36e61387",
   "metadata": {},
   "outputs": [
    {
     "data": {
      "text/plain": [
       "48000"
      ]
     },
     "execution_count": 137,
     "metadata": {},
     "output_type": "execute_result"
    }
   ],
   "source": [
    "len(cont_train)"
   ]
  },
  {
   "cell_type": "code",
   "execution_count": 139,
   "id": "42ffb5db",
   "metadata": {},
   "outputs": [
    {
     "data": {
      "text/plain": [
       "12000"
      ]
     },
     "execution_count": 139,
     "metadata": {},
     "output_type": "execute_result"
    }
   ],
   "source": [
    "len(cat_test)"
   ]
  },
  {
   "cell_type": "code",
   "execution_count": 140,
   "id": "d76001d8",
   "metadata": {},
   "outputs": [
    {
     "name": "stdout",
     "output_type": "stream",
     "text": [
      "epoch 1 loss is 12.586905479431152\n",
      "epoch 21 loss is 11.121370315551758\n",
      "epoch 41 loss is 10.46048641204834\n",
      "epoch 61 loss is 10.027897834777832\n",
      "epoch 81 loss is 9.634709358215332\n",
      "epoch 101 loss is 9.172706604003906\n",
      "epoch 121 loss is 8.578141212463379\n",
      "epoch 141 loss is 7.807574272155762\n",
      "epoch 161 loss is 6.917910099029541\n",
      "epoch 181 loss is 5.967058181762695\n",
      "epoch 201 loss is 5.016525745391846\n",
      "epoch 221 loss is 4.339516639709473\n",
      "epoch 241 loss is 3.9065146446228027\n",
      "epoch 261 loss is 3.798497200012207\n",
      "epoch 281 loss is 3.722611904144287\n",
      "Training took 1.1924061059951783 minutes\n"
     ]
    }
   ],
   "source": [
    "import time\n",
    "\n",
    "start_time = time.time()\n",
    "\n",
    "epochs = 300\n",
    "\n",
    "losses = []\n",
    "\n",
    "for i in range(epochs):\n",
    "    i+=1\n",
    "    y_pred = model(cat_train, cont_train)\n",
    "    loss = torch.sqrt(criterion(y_pred, y_train))#rmse\n",
    "    losses.append(loss.item())\n",
    "    if i%20==1:\n",
    "        print(f\"epoch {i} loss is {loss.item()}\")\n",
    "    \n",
    "    optimizer.zero_grad()\n",
    "    loss.backward()\n",
    "    optimizer.step()\n",
    "\n",
    "duration = time.time()-start_time\n",
    "print(f\"Training took {duration/60} minutes\")"
   ]
  },
  {
   "cell_type": "code",
   "execution_count": 141,
   "id": "4616dcd3",
   "metadata": {},
   "outputs": [
    {
     "data": {
      "image/png": "[encoded data removed]",
      "text/plain": [
       "<Figure size 640x480 with 1 Axes>"
      ]
     },
     "metadata": {},
     "output_type": "display_data"
    }
   ],
   "source": [
    "plt.plot(range(epochs), losses)\n",
    "plt.show()"
   ]
  },
  {
   "cell_type": "code",
   "execution_count": 142,
   "id": "d2c65c7d",
   "metadata": {},
   "outputs": [],
   "source": [
    "with torch.no_grad():\n",
    "    y_val = model(cat_test, cont_test)\n",
    "    loss = torch.sqrt(criterion(y_val, y_test))"
   ]
  },
  {
   "cell_type": "code",
   "execution_count": 143,
   "id": "e2637607",
   "metadata": {},
   "outputs": [
    {
     "data": {
      "text/plain": [
       "tensor(3.6349)"
      ]
     },
     "execution_count": 143,
     "metadata": {},
     "output_type": "execute_result"
    }
   ],
   "source": [
    "loss"
   ]
  },
  {
   "cell_type": "code",
   "execution_count": 146,
   "id": "a8f55a0d",
   "metadata": {},
   "outputs": [
    {
     "name": "stdout",
     "output_type": "stream",
     "text": [
      "Predicted:   5.2900 True:     2.90\n",
      "Predicted:  13.0812 True:     5.70\n",
      "Predicted:   7.8273 True:     7.70\n",
      "Predicted:  14.6951 True:    12.50\n",
      "Predicted:   6.9042 True:     4.10\n",
      "Predicted:   6.0040 True:     5.30\n",
      "Predicted:   2.1044 True:     3.70\n",
      "Predicted:  18.6150 True:    14.50\n",
      "Predicted:   4.9192 True:     5.70\n",
      "Predicted:  13.8352 True:    10.10\n"
     ]
    }
   ],
   "source": [
    "for i in range(10):\n",
    "    print(f\"Predicted: {y_val[i].item():8.4f} True: {y_test[i].item():8.2f}\")"
   ]
  },
  {
   "cell_type": "code",
   "execution_count": 147,
   "id": "109e103c",
   "metadata": {},
   "outputs": [],
   "source": [
    "torch.save(model.state_dict(),'TaxiModel.pt')"
   ]
  },
  {
   "cell_type": "code",
   "execution_count": null,
   "id": "7aa01d74",
   "metadata": {},
   "outputs": [],
   "source": []
  },
  {
   "cell_type": "code",
   "execution_count": null,
   "id": "a87c77a4",
   "metadata": {},
   "outputs": [],
   "source": []
  },
  {
   "cell_type": "markdown",
   "id": "6f79d885",
   "metadata": {},
   "source": [
    "## Full ANN Classification"
   ]
  },
  {
   "cell_type": "code",
   "execution_count": null,
   "id": "44be7428",
   "metadata": {},
   "outputs": [],
   "source": []
  }
 ],
 "metadata": {
  "kernelspec": {
   "display_name": "Cudatest",
   "language": "python",
   "name": "cudatest"
  },
  "language_info": {
   "codemirror_mode": {
    "name": "ipython",
    "version": 3
   },
   "file_extension": ".py",
   "mimetype": "text/x-python",
   "name": "python",
   "nbconvert_exporter": "python",
   "pygments_lexer": "ipython3",
   "version": "3.11.5"
  }
 },
 "nbformat": 4,
 "nbformat_minor": 5
}
